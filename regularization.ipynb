{
 "cells": [
  {
   "cell_type": "markdown",
   "id": "b812ab56-3535-4e1e-b074-43271055f30e",
   "metadata": {},
   "source": [
    "# Regularization"
   ]
  },
  {
   "cell_type": "code",
   "execution_count": 1,
   "id": "7347c69e-1d16-4619-943d-f6f0faef8fe1",
   "metadata": {},
   "outputs": [],
   "source": [
    "import numpy as np\n",
    "import pandas as pd\n",
    "import os\n",
    "import matplotlib.pyplot as plt\n",
    "from sklearn.linear_model import LinearRegression, LogisticRegression, Lasso, Ridge\n",
    "from sklearn.model_selection import train_test_split, GridSearchCV\n",
    "from sklearn.preprocessing import StandardScaler\n",
    "from sklearn.metrics import (\n",
    "    r2_score, mean_squared_error, mean_absolute_percentage_error, f1_score, \n",
    "    classification_report, confusion_matrix, ConfusionMatrixDisplay, make_scorer,\n",
    ")\n",
    "%matplotlib inline"
   ]
  },
  {
   "cell_type": "code",
   "execution_count": 2,
   "id": "d370e727-a7da-40c8-b326-30eb31ceae4a",
   "metadata": {},
   "outputs": [],
   "source": [
    "pd.set_option('display.max_columns', None)\n",
    "pd.set_option('display.max_rows', None)"
   ]
  },
  {
   "cell_type": "code",
   "execution_count": 3,
   "id": "590e6199-6ecc-4e24-8985-da9a1d89c29c",
   "metadata": {},
   "outputs": [],
   "source": [
    "data_directory = r\"C:\\Users\\said_\\OneDrive\\Masaüstü\\github\\Machine Learning in Finance\\Datasets\""
   ]
  },
  {
   "cell_type": "markdown",
   "id": "c7a223c5-2319-4565-9d72-d9d6c6e4391f",
   "metadata": {},
   "source": [
    "## Regularized Linear Regression for Predicting House Price \n",
    "\n",
    "- We will implement a regularized linear regression by using sklearn to predict house sale price (last column) by using all remaining attributes over the Real State Price dataset.\n",
    "- We will implement L1 norm (Lasso) and L2 norm (Ridge) regularized linear regression by using sklearn library.\n",
    "- To find the optimal regularization hyperparameter lambda, we will apply 5-fold cross-validation and test different lambda values: 0.001, 0.01, 0.1, 0.25, 0.5, 1.0].\n",
    "- The evaluation metric is Root Mean Squared Error (RMSE)."
   ]
  },
  {
   "cell_type": "code",
   "execution_count": 4,
   "id": "23d9fb72-3958-4ac5-9ca3-9916094a0b8d",
   "metadata": {},
   "outputs": [
    {
     "name": "stdout",
     "output_type": "stream",
     "text": [
      "(1460, 81)\n"
     ]
    }
   ],
   "source": [
    "data = pd.read_csv(os.path.join(data_directory, \"kaggle_house.csv\"))\n",
    "print(data.shape)"
   ]
  },
  {
   "cell_type": "code",
   "execution_count": 5,
   "id": "54030cf6-b89b-4f4c-9530-7b66691b3934",
   "metadata": {},
   "outputs": [
    {
     "name": "stdout",
     "output_type": "stream",
     "text": [
      "<class 'pandas.core.frame.DataFrame'>\n",
      "RangeIndex: 1460 entries, 0 to 1459\n",
      "Data columns (total 81 columns):\n",
      " #   Column         Non-Null Count  Dtype  \n",
      "---  ------         --------------  -----  \n",
      " 0   Id             1460 non-null   int64  \n",
      " 1   MSSubClass     1460 non-null   int64  \n",
      " 2   MSZoning       1460 non-null   object \n",
      " 3   LotFrontage    1201 non-null   float64\n",
      " 4   LotArea        1460 non-null   int64  \n",
      " 5   Street         1460 non-null   object \n",
      " 6   Alley          91 non-null     object \n",
      " 7   LotShape       1460 non-null   object \n",
      " 8   LandContour    1460 non-null   object \n",
      " 9   Utilities      1460 non-null   object \n",
      " 10  LotConfig      1460 non-null   object \n",
      " 11  LandSlope      1460 non-null   object \n",
      " 12  Neighborhood   1460 non-null   object \n",
      " 13  Condition1     1460 non-null   object \n",
      " 14  Condition2     1460 non-null   object \n",
      " 15  BldgType       1460 non-null   object \n",
      " 16  HouseStyle     1460 non-null   object \n",
      " 17  OverallQual    1460 non-null   int64  \n",
      " 18  OverallCond    1460 non-null   int64  \n",
      " 19  YearBuilt      1460 non-null   int64  \n",
      " 20  YearRemodAdd   1460 non-null   int64  \n",
      " 21  RoofStyle      1460 non-null   object \n",
      " 22  RoofMatl       1460 non-null   object \n",
      " 23  Exterior1st    1460 non-null   object \n",
      " 24  Exterior2nd    1460 non-null   object \n",
      " 25  MasVnrType     588 non-null    object \n",
      " 26  MasVnrArea     1452 non-null   float64\n",
      " 27  ExterQual      1460 non-null   object \n",
      " 28  ExterCond      1460 non-null   object \n",
      " 29  Foundation     1460 non-null   object \n",
      " 30  BsmtQual       1423 non-null   object \n",
      " 31  BsmtCond       1423 non-null   object \n",
      " 32  BsmtExposure   1422 non-null   object \n",
      " 33  BsmtFinType1   1423 non-null   object \n",
      " 34  BsmtFinSF1     1460 non-null   int64  \n",
      " 35  BsmtFinType2   1422 non-null   object \n",
      " 36  BsmtFinSF2     1460 non-null   int64  \n",
      " 37  BsmtUnfSF      1460 non-null   int64  \n",
      " 38  TotalBsmtSF    1460 non-null   int64  \n",
      " 39  Heating        1460 non-null   object \n",
      " 40  HeatingQC      1460 non-null   object \n",
      " 41  CentralAir     1460 non-null   object \n",
      " 42  Electrical     1459 non-null   object \n",
      " 43  1stFlrSF       1460 non-null   int64  \n",
      " 44  2ndFlrSF       1460 non-null   int64  \n",
      " 45  LowQualFinSF   1460 non-null   int64  \n",
      " 46  GrLivArea      1460 non-null   int64  \n",
      " 47  BsmtFullBath   1460 non-null   int64  \n",
      " 48  BsmtHalfBath   1460 non-null   int64  \n",
      " 49  FullBath       1460 non-null   int64  \n",
      " 50  HalfBath       1460 non-null   int64  \n",
      " 51  BedroomAbvGr   1460 non-null   int64  \n",
      " 52  KitchenAbvGr   1460 non-null   int64  \n",
      " 53  KitchenQual    1460 non-null   object \n",
      " 54  TotRmsAbvGrd   1460 non-null   int64  \n",
      " 55  Functional     1460 non-null   object \n",
      " 56  Fireplaces     1460 non-null   int64  \n",
      " 57  FireplaceQu    770 non-null    object \n",
      " 58  GarageType     1379 non-null   object \n",
      " 59  GarageYrBlt    1379 non-null   float64\n",
      " 60  GarageFinish   1379 non-null   object \n",
      " 61  GarageCars     1460 non-null   int64  \n",
      " 62  GarageArea     1460 non-null   int64  \n",
      " 63  GarageQual     1379 non-null   object \n",
      " 64  GarageCond     1379 non-null   object \n",
      " 65  PavedDrive     1460 non-null   object \n",
      " 66  WoodDeckSF     1460 non-null   int64  \n",
      " 67  OpenPorchSF    1460 non-null   int64  \n",
      " 68  EnclosedPorch  1460 non-null   int64  \n",
      " 69  3SsnPorch      1460 non-null   int64  \n",
      " 70  ScreenPorch    1460 non-null   int64  \n",
      " 71  PoolArea       1460 non-null   int64  \n",
      " 72  PoolQC         7 non-null      object \n",
      " 73  Fence          281 non-null    object \n",
      " 74  MiscFeature    54 non-null     object \n",
      " 75  MiscVal        1460 non-null   int64  \n",
      " 76  MoSold         1460 non-null   int64  \n",
      " 77  YrSold         1460 non-null   int64  \n",
      " 78  SaleType       1460 non-null   object \n",
      " 79  SaleCondition  1460 non-null   object \n",
      " 80  SalePrice      1460 non-null   int64  \n",
      "dtypes: float64(3), int64(35), object(43)\n",
      "memory usage: 924.0+ KB\n"
     ]
    }
   ],
   "source": [
    "data.info()"
   ]
  },
  {
   "cell_type": "code",
   "execution_count": 6,
   "id": "3dd376dc-ba22-4189-bdc7-9ff6141d13f4",
   "metadata": {},
   "outputs": [
    {
     "name": "stdout",
     "output_type": "stream",
     "text": [
      "<class 'pandas.core.frame.DataFrame'>\n",
      "Index: 1346 entries, 0 to 1459\n",
      "Data columns (total 75 columns):\n",
      " #   Column         Non-Null Count  Dtype  \n",
      "---  ------         --------------  -----  \n",
      " 0   Id             1346 non-null   int64  \n",
      " 1   MSSubClass     1346 non-null   int64  \n",
      " 2   MSZoning       1346 non-null   object \n",
      " 3   LotFrontage    1346 non-null   float64\n",
      " 4   LotArea        1346 non-null   int64  \n",
      " 5   Street         1346 non-null   object \n",
      " 6   LotShape       1346 non-null   object \n",
      " 7   LandContour    1346 non-null   object \n",
      " 8   Utilities      1346 non-null   object \n",
      " 9   LotConfig      1346 non-null   object \n",
      " 10  LandSlope      1346 non-null   object \n",
      " 11  Neighborhood   1346 non-null   object \n",
      " 12  Condition1     1346 non-null   object \n",
      " 13  Condition2     1346 non-null   object \n",
      " 14  BldgType       1346 non-null   object \n",
      " 15  HouseStyle     1346 non-null   object \n",
      " 16  OverallQual    1346 non-null   int64  \n",
      " 17  OverallCond    1346 non-null   int64  \n",
      " 18  YearBuilt      1346 non-null   int64  \n",
      " 19  YearRemodAdd   1346 non-null   int64  \n",
      " 20  RoofStyle      1346 non-null   object \n",
      " 21  RoofMatl       1346 non-null   object \n",
      " 22  Exterior1st    1346 non-null   object \n",
      " 23  Exterior2nd    1346 non-null   object \n",
      " 24  MasVnrArea     1346 non-null   float64\n",
      " 25  ExterQual      1346 non-null   object \n",
      " 26  ExterCond      1346 non-null   object \n",
      " 27  Foundation     1346 non-null   object \n",
      " 28  BsmtQual       1346 non-null   object \n",
      " 29  BsmtCond       1346 non-null   object \n",
      " 30  BsmtExposure   1346 non-null   object \n",
      " 31  BsmtFinType1   1346 non-null   object \n",
      " 32  BsmtFinSF1     1346 non-null   int64  \n",
      " 33  BsmtFinType2   1346 non-null   object \n",
      " 34  BsmtFinSF2     1346 non-null   int64  \n",
      " 35  BsmtUnfSF      1346 non-null   int64  \n",
      " 36  TotalBsmtSF    1346 non-null   int64  \n",
      " 37  Heating        1346 non-null   object \n",
      " 38  HeatingQC      1346 non-null   object \n",
      " 39  CentralAir     1346 non-null   object \n",
      " 40  Electrical     1346 non-null   object \n",
      " 41  1stFlrSF       1346 non-null   int64  \n",
      " 42  2ndFlrSF       1346 non-null   int64  \n",
      " 43  LowQualFinSF   1346 non-null   int64  \n",
      " 44  GrLivArea      1346 non-null   int64  \n",
      " 45  BsmtFullBath   1346 non-null   int64  \n",
      " 46  BsmtHalfBath   1346 non-null   int64  \n",
      " 47  FullBath       1346 non-null   int64  \n",
      " 48  HalfBath       1346 non-null   int64  \n",
      " 49  BedroomAbvGr   1346 non-null   int64  \n",
      " 50  KitchenAbvGr   1346 non-null   int64  \n",
      " 51  KitchenQual    1346 non-null   object \n",
      " 52  TotRmsAbvGrd   1346 non-null   int64  \n",
      " 53  Functional     1346 non-null   object \n",
      " 54  Fireplaces     1346 non-null   int64  \n",
      " 55  GarageType     1346 non-null   object \n",
      " 56  GarageYrBlt    1346 non-null   float64\n",
      " 57  GarageFinish   1346 non-null   object \n",
      " 58  GarageCars     1346 non-null   int64  \n",
      " 59  GarageArea     1346 non-null   int64  \n",
      " 60  GarageQual     1346 non-null   object \n",
      " 61  GarageCond     1346 non-null   object \n",
      " 62  PavedDrive     1346 non-null   object \n",
      " 63  WoodDeckSF     1346 non-null   int64  \n",
      " 64  OpenPorchSF    1346 non-null   int64  \n",
      " 65  EnclosedPorch  1346 non-null   int64  \n",
      " 66  3SsnPorch      1346 non-null   int64  \n",
      " 67  ScreenPorch    1346 non-null   int64  \n",
      " 68  PoolArea       1346 non-null   int64  \n",
      " 69  MiscVal        1346 non-null   int64  \n",
      " 70  MoSold         1346 non-null   int64  \n",
      " 71  YrSold         1346 non-null   int64  \n",
      " 72  SaleType       1346 non-null   object \n",
      " 73  SaleCondition  1346 non-null   object \n",
      " 74  SalePrice      1346 non-null   int64  \n",
      "dtypes: float64(3), int64(35), object(37)\n",
      "memory usage: 799.2+ KB\n"
     ]
    }
   ],
   "source": [
    "# Remove the columns with too many missing values\n",
    "columns_removed = [\"Alley\", \"MasVnrType\", \"FireplaceQu\", \"PoolQC\", \"Fence\", \"MiscFeature\"]\n",
    "\n",
    "mydf = data.drop(columns=columns_removed)\n",
    "\n",
    "# Remove rows with missing values in categorical columns\n",
    "categorical_columns = mydf.select_dtypes(include=['object']).columns\n",
    "mydf = mydf.dropna(subset=categorical_columns)\n",
    "\n",
    "# Apply mean imputation for the missing values in numerical columns\n",
    "numerical_columns = mydf.select_dtypes(include=['number']).columns\n",
    "mydf[numerical_columns] = mydf[numerical_columns].fillna(mydf[numerical_columns].mean())\n",
    "\n",
    "mydf.info()"
   ]
  },
  {
   "cell_type": "code",
   "execution_count": 7,
   "id": "d714d966-6497-4278-8199-1e716445c33a",
   "metadata": {},
   "outputs": [
    {
     "name": "stdout",
     "output_type": "stream",
     "text": [
      "Train shape: (1076, 262)\n",
      "Test shape: (270, 262)\n"
     ]
    }
   ],
   "source": [
    "# Define features and target\n",
    "X = mydf.drop(columns=\"SalePrice\")\n",
    "y = mydf[\"SalePrice\"].values\n",
    "\n",
    "# Aplly one-hot-encoding to the categorical columns\n",
    "X = pd.get_dummies(X)\n",
    "\n",
    "# Split data into train and test sets\n",
    "X_train, X_test, y_train, y_test = train_test_split(X, y, test_size=0.2, random_state=42)\n",
    "\n",
    "# Normalize data\n",
    "scaler = StandardScaler()\n",
    "scaler.fit(X_train)\n",
    "X_train_scaled = scaler.transform(X_train)\n",
    "X_test_scaled = scaler.transform(X_test)\n",
    "\n",
    "print(f\"Train shape: {X_train_scaled.shape}\")\n",
    "print(f\"Test shape: {X_test_scaled.shape}\")"
   ]
  },
  {
   "cell_type": "markdown",
   "id": "9936a371-8581-4347-b544-1f5399fe949e",
   "metadata": {},
   "source": [
    "### Lasso Regression (L1 Regularization)\n",
    "\n",
    "The objective of Lasso regression is to minimize the following loss function:\n",
    "\n",
    "$$\n",
    "\\text{Lasso Loss} = \\sum_{i=1}^{n} (y_i - \\hat{y}_i)^2 + \\lambda \\sum_{j=1}^{p} | \\beta_j |\n",
    "$$\n",
    "\n",
    "The L1 regularization term $\\sum_{j=1}^{p} | \\beta_j | $ encourages sparsity, causing some coefficients to be exactly zero.\n",
    "\n",
    "---\n",
    "\n",
    "### Ridge Regression (L2 Regularization)\n",
    "\n",
    "The objective of Ridge regression is to minimize the following loss function:\n",
    "\n",
    "$$\n",
    "\\text{Ridge Loss} = \\sum_{i=1}^{n} (y_i - \\hat{y}_i)^2 + \\lambda \\sum_{j=1}^{p} \\beta_j^2\n",
    "$$\n",
    "\n",
    "The L2 regularization term $\\sum_{j=1}^{p} \\beta_j^2$ penalizes the squared magnitude of the coefficients but does not drive them to zero. Ridge regression shrinks the coefficients but typically does not eliminate them completely.\n",
    "\n",
    "> Notation:\n",
    ">- $y_i$ is the true value for the \\(i\\)-th observation.\n",
    ">- $\\hat{y}_i$ is the predicted value for the \\(i\\)-th observation.\n",
    ">- $n$ is the number of observations.\n",
    ">- $\\lambda$ is the regularization parameter.\n",
    ">- $\\beta_j$ are the coefficients of the features.\n",
    ">- $p$ is the number of features."
   ]
  },
  {
   "cell_type": "markdown",
   "id": "28c5b851-2619-460b-b88f-df9ee615d23e",
   "metadata": {},
   "source": [
    "### Hyperparameter Tuning"
   ]
  },
  {
   "cell_type": "code",
   "execution_count": 8,
   "id": "a16843e7-6ea0-4bff-83da-0ade87dc6660",
   "metadata": {},
   "outputs": [
    {
     "name": "stderr",
     "output_type": "stream",
     "text": [
      "C:\\Users\\said_\\anaconda3\\envs\\ml\\lib\\site-packages\\sklearn\\linear_model\\_coordinate_descent.py:678: ConvergenceWarning: Objective did not converge. You might want to increase the number of iterations, check the scale of the features or consider increasing regularisation. Duality gap: 4.223e+10, tolerance: 7.066e+08\n",
      "  model = cd_fast.enet_coordinate_descent(\n"
     ]
    }
   ],
   "source": [
    "# Use RMSE for the reference metric in hyperparameter tuning\n",
    "rmse_scorer = make_scorer(mean_squared_error, squared=False)\n",
    "\n",
    "# Hyperparameter tuning using GridSearchCV\n",
    "lambda_list = [0.001, 0.01, 0.1, 0.25, 0.5, 1.0]\n",
    "\n",
    "n_iter = 1000\n",
    "\n",
    "# Lasso Regression (L1 Regularization)\n",
    "lasso_model = Lasso(max_iter=n_iter)\n",
    "lasso_grid = GridSearchCV(\n",
    "    estimator=lasso_model,\n",
    "    param_grid={'alpha': lambda_list},\n",
    "    scoring=rmse_scorer,\n",
    "    cv=5,\n",
    "    n_jobs=-1\n",
    ")\n",
    "lasso_grid.fit(X_train_scaled, y_train)\n",
    "best_lambda_l1 = lasso_grid.best_params_[\"alpha\"]\n",
    "best_rmse_l1 = lasso_grid.best_score_\n",
    "\n",
    "# Ridge Regression (L2 Regularization)\n",
    "ridge_model = Ridge(max_iter=n_iter)\n",
    "ridge_grid = GridSearchCV(\n",
    "    estimator=ridge_model,\n",
    "    param_grid={'alpha': lambda_list},\n",
    "    scoring=rmse_scorer,\n",
    "    cv=5,\n",
    "    n_jobs=-1\n",
    ")\n",
    "ridge_grid.fit(X_train_scaled, y_train)\n",
    "best_lambda_l2 = ridge_grid.best_params_[\"alpha\"]\n",
    "best_rmse_l2 = ridge_grid.best_score_"
   ]
  },
  {
   "cell_type": "code",
   "execution_count": 9,
   "id": "1555e67a-2b58-4e9d-a26b-54bf91667074",
   "metadata": {},
   "outputs": [],
   "source": [
    "# Re-train models with the best Lambda values and make predictions\n",
    "lasso_best_model = lasso_grid.best_estimator_\n",
    "ridge_best_model = ridge_grid.best_estimator_"
   ]
  },
  {
   "cell_type": "code",
   "execution_count": 10,
   "id": "4726e9f5-0b9d-4afe-858f-8f0b46775dc3",
   "metadata": {},
   "outputs": [
    {
     "data": {
      "text/html": [
       "<div>\n",
       "<style scoped>\n",
       "    .dataframe tbody tr th:only-of-type {\n",
       "        vertical-align: middle;\n",
       "    }\n",
       "\n",
       "    .dataframe tbody tr th {\n",
       "        vertical-align: top;\n",
       "    }\n",
       "\n",
       "    .dataframe thead th {\n",
       "        text-align: right;\n",
       "    }\n",
       "</style>\n",
       "<table border=\"1\" class=\"dataframe\">\n",
       "  <thead>\n",
       "    <tr style=\"text-align: right;\">\n",
       "      <th></th>\n",
       "      <th>Model</th>\n",
       "      <th>Best Lambda</th>\n",
       "      <th>Validation RMSE</th>\n",
       "      <th>Test RMSE</th>\n",
       "      <th>Test R2-Score</th>\n",
       "    </tr>\n",
       "  </thead>\n",
       "  <tbody>\n",
       "    <tr>\n",
       "      <th>0</th>\n",
       "      <td>Lasso (L1)</td>\n",
       "      <td>0.001</td>\n",
       "      <td>35543.553</td>\n",
       "      <td>35751.670</td>\n",
       "      <td>0.741</td>\n",
       "    </tr>\n",
       "    <tr>\n",
       "      <th>1</th>\n",
       "      <td>Ridge (L2)</td>\n",
       "      <td>0.001</td>\n",
       "      <td>35427.553</td>\n",
       "      <td>36039.697</td>\n",
       "      <td>0.737</td>\n",
       "    </tr>\n",
       "  </tbody>\n",
       "</table>\n",
       "</div>"
      ],
      "text/plain": [
       "        Model  Best Lambda  Validation RMSE  Test RMSE  Test R2-Score\n",
       "0  Lasso (L1)        0.001        35543.553  35751.670          0.741\n",
       "1  Ridge (L2)        0.001        35427.553  36039.697          0.737"
      ]
     },
     "execution_count": 10,
     "metadata": {},
     "output_type": "execute_result"
    }
   ],
   "source": [
    "# Make predictions and evaluate test scores\n",
    "y_pred_lasso = lasso_best_model.predict(X_test_scaled)\n",
    "y_pred_ridge = ridge_best_model.predict(X_test_scaled)\n",
    "\n",
    "lasso_rmse_test = np.sqrt(mean_squared_error(y_test, y_pred_lasso))\n",
    "lasso_r2_test = r2_score(y_test, y_pred_lasso)\n",
    "\n",
    "ridge_rmse_test = np.sqrt(mean_squared_error(y_test, y_pred_ridge))\n",
    "ridge_r2_test = r2_score(y_test, y_pred_ridge)\n",
    "\n",
    "# Define a results df\n",
    "results = {\n",
    "    \"Model\": [\"Lasso (L1)\", \"Ridge (L2)\"],\n",
    "    \"Best Lambda\": [best_lambda_l1, best_lambda_l2],\n",
    "    \"Validation RMSE\": [best_rmse_l1, best_rmse_l2],\n",
    "    \"Test RMSE\": [lasso_rmse_test, ridge_rmse_test],\n",
    "    \"Test R2-Score\": [lasso_r2_test, ridge_r2_test]\n",
    "}\n",
    "\n",
    "# Create a DataFrame from the results dictionary\n",
    "results_df = pd.DataFrame(results)\n",
    "results_df.round(3)"
   ]
  },
  {
   "cell_type": "markdown",
   "id": "9e354ffc-8878-43fb-84ba-2474326bcddf",
   "metadata": {},
   "source": [
    "**Discussion:** The Lasso and Ridge regression models have the same best lambda value (0.001), suggesting that both models benefit similarly from a small regularization strength. Each model performs similarly on the validation set, with Ridge having a slightly better validation RMSE. However, Lasso performed somewhat better on the unseen test data than Ridge, with a slightly lower test RMSE and a higher R2 score. Thus, it might be better to choose L1 regularization (Lasso) to predict house prices in this case."
   ]
  },
  {
   "cell_type": "markdown",
   "id": "cb8b2cd8-2d9d-4fd6-a799-0e65072817fd",
   "metadata": {},
   "source": [
    "## Logistic Regression for Determining Home Ownership Type on Lending Data\n",
    "\n",
    "- We will now focus on determining the home ownership type (e.g., mortgage or rent) in the \"lending_data.xlsx\" by using L1 regularized logistic regression\n",
    "- To find the optimal regularization hyperparameter lambda, we will apply 5-fold cross-validation where lambda can be: 0.001, 0.01, 0.1, 0.25, 0.5, 1.0.\n",
    "- The evaluation metric is F1 score."
   ]
  },
  {
   "cell_type": "code",
   "execution_count": 11,
   "id": "9042d79a-e5a8-4309-92eb-4cd5fc8d3624",
   "metadata": {},
   "outputs": [
    {
     "name": "stdout",
     "output_type": "stream",
     "text": [
      "(396030, 26)\n"
     ]
    }
   ],
   "source": [
    "lending_data = pd.read_excel(os.path.join(data_directory, \"lending_data.xlsx\"))\n",
    "print(lending_data.shape)"
   ]
  },
  {
   "cell_type": "code",
   "execution_count": 12,
   "id": "f2d318b2-437b-4a50-b5f6-43ee96165719",
   "metadata": {},
   "outputs": [
    {
     "name": "stdout",
     "output_type": "stream",
     "text": [
      "<class 'pandas.core.frame.DataFrame'>\n",
      "RangeIndex: 396030 entries, 0 to 396029\n",
      "Data columns (total 26 columns):\n",
      " #   Column                Non-Null Count   Dtype  \n",
      "---  ------                --------------   -----  \n",
      " 0   loan_amnt             396030 non-null  float64\n",
      " 1   term                  396030 non-null  object \n",
      " 2   int_rate              396030 non-null  float64\n",
      " 3   installment           396030 non-null  float64\n",
      " 4   grade                 396030 non-null  object \n",
      " 5   sub_grade             396030 non-null  object \n",
      " 6   emp_title             373103 non-null  object \n",
      " 7   emp_length            377729 non-null  object \n",
      " 8   home_ownership        396030 non-null  object \n",
      " 9   annual_inc            396030 non-null  float64\n",
      " 10  verification_status   396030 non-null  object \n",
      " 11  issue_d               396030 non-null  object \n",
      " 12  loan_status           396030 non-null  object \n",
      " 13  purpose               396030 non-null  object \n",
      " 14  title                 394274 non-null  object \n",
      " 15  dti                   396030 non-null  float64\n",
      " 16  earliest_cr_line      396030 non-null  object \n",
      " 17  open_acc              396030 non-null  float64\n",
      " 18  pub_rec               396030 non-null  float64\n",
      " 19  revol_bal             396030 non-null  float64\n",
      " 20  revol_util            395754 non-null  float64\n",
      " 21  total_acc             396030 non-null  float64\n",
      " 22  initial_list_status   396030 non-null  object \n",
      " 23  application_type      396030 non-null  object \n",
      " 24  mort_acc              358235 non-null  float64\n",
      " 25  pub_rec_bankruptcies  395495 non-null  float64\n",
      "dtypes: float64(12), object(14)\n",
      "memory usage: 78.6+ MB\n"
     ]
    }
   ],
   "source": [
    "lending_data.info()"
   ]
  },
  {
   "cell_type": "code",
   "execution_count": 13,
   "id": "5e379141-37f9-44b2-a2c1-d5670386354f",
   "metadata": {},
   "outputs": [
    {
     "name": "stdout",
     "output_type": "stream",
     "text": [
      "<class 'pandas.core.frame.DataFrame'>\n",
      "Index: 371384 entries, 0 to 396029\n",
      "Data columns (total 26 columns):\n",
      " #   Column                Non-Null Count   Dtype  \n",
      "---  ------                --------------   -----  \n",
      " 0   loan_amnt             371384 non-null  float64\n",
      " 1   term                  371384 non-null  object \n",
      " 2   int_rate              371384 non-null  float64\n",
      " 3   installment           371384 non-null  float64\n",
      " 4   grade                 371384 non-null  object \n",
      " 5   sub_grade             371384 non-null  object \n",
      " 6   emp_title             371384 non-null  object \n",
      " 7   emp_length            371384 non-null  object \n",
      " 8   home_ownership        371384 non-null  object \n",
      " 9   annual_inc            371384 non-null  float64\n",
      " 10  verification_status   371384 non-null  object \n",
      " 11  issue_d               371384 non-null  object \n",
      " 12  loan_status           371384 non-null  object \n",
      " 13  purpose               371384 non-null  object \n",
      " 14  title                 371384 non-null  object \n",
      " 15  dti                   371384 non-null  float64\n",
      " 16  earliest_cr_line      371384 non-null  object \n",
      " 17  open_acc              371384 non-null  float64\n",
      " 18  pub_rec               371384 non-null  float64\n",
      " 19  revol_bal             371384 non-null  float64\n",
      " 20  revol_util            371384 non-null  float64\n",
      " 21  total_acc             371384 non-null  float64\n",
      " 22  initial_list_status   371384 non-null  object \n",
      " 23  application_type      371384 non-null  object \n",
      " 24  mort_acc              371384 non-null  float64\n",
      " 25  pub_rec_bankruptcies  371384 non-null  float64\n",
      "dtypes: float64(12), object(14)\n",
      "memory usage: 76.5+ MB\n"
     ]
    }
   ],
   "source": [
    "mydf = lending_data.copy()\n",
    "\n",
    "# Remove rows with missing values in categorical columns\n",
    "categorical_columns = mydf.select_dtypes(include=['object']).columns\n",
    "mydf = mydf.dropna(subset=categorical_columns)\n",
    "\n",
    "# Apply mean imputation for the missing values in numerical columns\n",
    "numerical_columns = mydf.select_dtypes(include=['number']).columns\n",
    "mydf[numerical_columns] = mydf[numerical_columns].fillna(mydf[numerical_columns].mean())\n",
    "\n",
    "mydf.info()"
   ]
  },
  {
   "cell_type": "markdown",
   "id": "caaee74f-0981-4565-9e6d-7fe6bae81323",
   "metadata": {},
   "source": [
    "**Note:** Some categorical columns have too many classes. This makes the data extremely huge when one-hot-encoding is applied. Therefore, the categorical columns with many classes are removed for simplicity."
   ]
  },
  {
   "cell_type": "code",
   "execution_count": 14,
   "id": "3ca4aa88-9892-4c12-87ac-f0bff5a8d20b",
   "metadata": {},
   "outputs": [
    {
     "name": "stdout",
     "output_type": "stream",
     "text": [
      "term 2\n",
      "grade 7\n",
      "sub_grade 35\n",
      "emp_title 172572\n",
      "emp_length 11\n",
      "home_ownership 6\n",
      "verification_status 3\n",
      "issue_d 115\n",
      "loan_status 2\n",
      "purpose 14\n",
      "title 45763\n",
      "earliest_cr_line 664\n",
      "initial_list_status 2\n",
      "application_type 3\n"
     ]
    }
   ],
   "source": [
    "for i in categorical_columns:\n",
    "    print(i, mydf[i].value_counts().shape[0])"
   ]
  },
  {
   "cell_type": "code",
   "execution_count": 15,
   "id": "2b889b80-8ef2-4b61-bc13-bfec9a7b3a4d",
   "metadata": {},
   "outputs": [
    {
     "name": "stdout",
     "output_type": "stream",
     "text": [
      "(371384, 21)\n"
     ]
    }
   ],
   "source": [
    "extreme_columns = [\"sub_grade\", \"emp_title\", \"issue_d\", \"title\", \"earliest_cr_line\"]\n",
    "mydf = mydf.drop(columns=extreme_columns)\n",
    "print(mydf.shape)"
   ]
  },
  {
   "cell_type": "code",
   "execution_count": 16,
   "id": "b1415ac2-5136-4e37-acbb-0892360db9ba",
   "metadata": {},
   "outputs": [
    {
     "data": {
      "text/plain": [
       "home_ownership\n",
       "MORTGAGE    186520\n",
       "RENT        151092\n",
       "OWN          33635\n",
       "OTHER          107\n",
       "NONE            29\n",
       "ANY              1\n",
       "Name: count, dtype: int64"
      ]
     },
     "execution_count": 16,
     "metadata": {},
     "output_type": "execute_result"
    }
   ],
   "source": [
    "# Check the class distribution in the target column\n",
    "mydf['home_ownership'].value_counts()"
   ]
  },
  {
   "cell_type": "code",
   "execution_count": 17,
   "id": "0c8724b5-60b8-490a-a4bb-f970abed0dcb",
   "metadata": {},
   "outputs": [
    {
     "data": {
      "text/plain": [
       "home_ownership\n",
       "MORTGAGE    186520\n",
       "RENT        151092\n",
       "OWN          33635\n",
       "Name: count, dtype: int64"
      ]
     },
     "execution_count": 17,
     "metadata": {},
     "output_type": "execute_result"
    }
   ],
   "source": [
    "# Remove rows where 'home_ownership' is \"OTHER\", \"NONE\", or \"ANY\" for simplicity\n",
    "mydf = mydf[~mydf['home_ownership'].isin(['OTHER', 'NONE', 'ANY'])]\n",
    "# Check the class distribution in the target column after cleansing\n",
    "mydf['home_ownership'].value_counts()"
   ]
  },
  {
   "cell_type": "code",
   "execution_count": 18,
   "id": "375d97c7-e10a-47a6-a310-5e091a61d39d",
   "metadata": {},
   "outputs": [
    {
     "name": "stdout",
     "output_type": "stream",
     "text": [
      "Data shape after one-hot-encoding: (371247, 56)\n",
      "Train shape: (296997, 56)\n",
      "Test shape: (74250, 56)\n"
     ]
    }
   ],
   "source": [
    "# Define features and target\n",
    "X = mydf.drop(columns=\"home_ownership\")\n",
    "y = mydf[\"home_ownership\"].values\n",
    "\n",
    "# Aplly one-hot-encoding to the categorical columns\n",
    "X = pd.get_dummies(X)\n",
    "print(f\"Data shape after one-hot-encoding: {X.shape}\")\n",
    "\n",
    "# Split data into train and test sets with an equal class distribution in the targets\n",
    "X_train, X_test, y_train, y_test = train_test_split(X, y, test_size=0.1, random_state=42, stratify=y)\n",
    "\n",
    "# Normalize data\n",
    "scaler = StandardScaler()\n",
    "scaler.fit(X_train)\n",
    "X_train_scaled = scaler.transform(X_train)\n",
    "X_test_scaled = scaler.transform(X_test)\n",
    "\n",
    "print(f\"Train shape: {X_train_scaled.shape}\")\n",
    "print(f\"Test shape: {X_test.shape}\")"
   ]
  },
  {
   "cell_type": "code",
   "execution_count": 21,
   "id": "36108052-8c5d-407a-9c83-ad232711bca9",
   "metadata": {},
   "outputs": [
    {
     "name": "stdout",
     "output_type": "stream",
     "text": [
      "Fitting 5 folds for each of 6 candidates, totalling 30 fits\n"
     ]
    }
   ],
   "source": [
    "# Define the hyperparameter search space\n",
    "param_grid = {\"C\": [1/val for val in [0.001, 0.01, 0.1, 0.25, 0.5, 1.0]]}\n",
    "\n",
    "# Logistic Regression with L1 penalty (Lasso)\n",
    "logreg_l1 = LogisticRegression(penalty=\"l1\", solver=\"saga\", max_iter=1000)\n",
    "grid_search_l1 = GridSearchCV(\n",
    "    logreg_l1, param_grid, cv=5, \n",
    "    scoring=\"f1_weighted\", n_jobs=-1, verbose=1,\n",
    ")\n",
    "grid_search_l1.fit(X_train_scaled, y_train)\n",
    "\n",
    "# Get the best model and lambda value\n",
    "best_model_l1 = grid_search_l1.best_estimator_\n",
    "best_lambda_l1 = 1 / grid_search_l1.best_params_[\"C\"]\n",
    "best_f1_l1 = grid_search_l1.best_score_"
   ]
  },
  {
   "cell_type": "code",
   "execution_count": 25,
   "id": "cbe04d1a-1777-432a-a8e0-b85f151e2beb",
   "metadata": {},
   "outputs": [
    {
     "data": {
      "text/html": [
       "<div>\n",
       "<style scoped>\n",
       "    .dataframe tbody tr th:only-of-type {\n",
       "        vertical-align: middle;\n",
       "    }\n",
       "\n",
       "    .dataframe tbody tr th {\n",
       "        vertical-align: top;\n",
       "    }\n",
       "\n",
       "    .dataframe thead th {\n",
       "        text-align: right;\n",
       "    }\n",
       "</style>\n",
       "<table border=\"1\" class=\"dataframe\">\n",
       "  <thead>\n",
       "    <tr style=\"text-align: right;\">\n",
       "      <th></th>\n",
       "      <th>Lambda</th>\n",
       "      <th>Mean Validation F1</th>\n",
       "      <th>Std Validation F1</th>\n",
       "    </tr>\n",
       "  </thead>\n",
       "  <tbody>\n",
       "    <tr>\n",
       "      <th>5</th>\n",
       "      <td>1.000</td>\n",
       "      <td>0.676151</td>\n",
       "      <td>0.001540</td>\n",
       "    </tr>\n",
       "    <tr>\n",
       "      <th>0</th>\n",
       "      <td>0.001</td>\n",
       "      <td>0.676148</td>\n",
       "      <td>0.001548</td>\n",
       "    </tr>\n",
       "    <tr>\n",
       "      <th>1</th>\n",
       "      <td>0.010</td>\n",
       "      <td>0.676148</td>\n",
       "      <td>0.001548</td>\n",
       "    </tr>\n",
       "    <tr>\n",
       "      <th>4</th>\n",
       "      <td>0.500</td>\n",
       "      <td>0.676148</td>\n",
       "      <td>0.001526</td>\n",
       "    </tr>\n",
       "    <tr>\n",
       "      <th>3</th>\n",
       "      <td>0.250</td>\n",
       "      <td>0.676148</td>\n",
       "      <td>0.001543</td>\n",
       "    </tr>\n",
       "    <tr>\n",
       "      <th>2</th>\n",
       "      <td>0.100</td>\n",
       "      <td>0.676145</td>\n",
       "      <td>0.001545</td>\n",
       "    </tr>\n",
       "  </tbody>\n",
       "</table>\n",
       "</div>"
      ],
      "text/plain": [
       "   Lambda  Mean Validation F1  Std Validation F1\n",
       "5   1.000            0.676151           0.001540\n",
       "0   0.001            0.676148           0.001548\n",
       "1   0.010            0.676148           0.001548\n",
       "4   0.500            0.676148           0.001526\n",
       "3   0.250            0.676148           0.001543\n",
       "2   0.100            0.676145           0.001545"
      ]
     },
     "execution_count": 25,
     "metadata": {},
     "output_type": "execute_result"
    }
   ],
   "source": [
    "# Create a df to log validation F1-scores for different lambda values\n",
    "lambda_results = pd.DataFrame({\n",
    "    \"Lambda\": [1 / C for C in grid_search_l1.cv_results_[\"param_C\"]],\n",
    "    \"Mean Validation F1\": grid_search_l1.cv_results_[\"mean_test_score\"],\n",
    "    \"Std Validation F1\": grid_search_l1.cv_results_[\"std_test_score\"]\n",
    "})\n",
    "\n",
    "# Sort by the validation F-1 score\n",
    "lambda_results = lambda_results.sort_values(by=\"Mean Validation F1\", ascending=False)\n",
    "lambda_results.sort_values(by=\"Mean Validation F1\", ascending=False)"
   ]
  },
  {
   "cell_type": "markdown",
   "id": "a1be215d-5d2b-47ac-bb8c-740d210fa4cd",
   "metadata": {},
   "source": [
    "Lambda (1.0) performs relatively better with the highest F1 Score than the other lambda values."
   ]
  },
  {
   "cell_type": "code",
   "execution_count": 26,
   "id": "eb901c3c-6b5c-48db-88de-249c3fc1714e",
   "metadata": {},
   "outputs": [
    {
     "name": "stdout",
     "output_type": "stream",
     "text": [
      "\n",
      "Classification Report (Test Set):\n",
      "              precision    recall  f1-score   support\n",
      "\n",
      "    MORTGAGE       0.75      0.78      0.76     37304\n",
      "         OWN       0.25      0.00      0.00      6727\n",
      "        RENT       0.66      0.78      0.72     30219\n",
      "\n",
      "    accuracy                           0.71     74250\n",
      "   macro avg       0.55      0.52      0.49     74250\n",
      "weighted avg       0.67      0.71      0.68     74250\n",
      "\n"
     ]
    }
   ],
   "source": [
    "# Evaluate the best model on the test set\n",
    "best_model_l1 = LogisticRegression(C=1.0, penalty=\"l1\", solver=\"saga\", max_iter=1000)\n",
    "best_model_l1.fit(X_train_scaled, y_train)\n",
    "y_test_pred_l1 = best_model_l1.predict(X_test_scaled)\n",
    "\n",
    "print(\"\\nClassification Report (Test Set):\")\n",
    "print(classification_report(y_test, y_test_pred_l1))"
   ]
  },
  {
   "cell_type": "code",
   "execution_count": 31,
   "id": "0bd6c1af-6441-46f0-a3eb-7449cf67d26d",
   "metadata": {},
   "outputs": [
    {
     "data": {
      "image/png": "[encoded data removed]",
      "text/plain": [
       "<Figure size 640x480 with 2 Axes>"
      ]
     },
     "metadata": {},
     "output_type": "display_data"
    }
   ],
   "source": [
    "# Create the confusion matrix\n",
    "cm = confusion_matrix(y_test, y_test_pred_l1)\n",
    "\n",
    "# Create a confusion matrix display\n",
    "cm_display = ConfusionMatrixDisplay(confusion_matrix=cm, display_labels=best_model_l1.classes_)\n",
    "\n",
    "# Plot the confusion matrix\n",
    "cm_display.plot(cmap=\"viridis\")\n",
    "plt.show()"
   ]
  },
  {
   "cell_type": "code",
   "execution_count": 32,
   "id": "b0d170a7-7a5a-406b-9967-505bedb1b9c4",
   "metadata": {},
   "outputs": [
    {
     "data": {
      "text/plain": [
       "home_ownership\n",
       "MORTGAGE    186520\n",
       "RENT        151092\n",
       "OWN          33635\n",
       "Name: count, dtype: int64"
      ]
     },
     "execution_count": 32,
     "metadata": {},
     "output_type": "execute_result"
    }
   ],
   "source": [
    "# Let us recall the class distribution in the target variable\n",
    "mydf['home_ownership'].value_counts()"
   ]
  },
  {
   "cell_type": "code",
   "execution_count": 34,
   "id": "09cb0012-4b5e-471e-8d59-9935d989bc7f",
   "metadata": {},
   "outputs": [
    {
     "name": "stdout",
     "output_type": "stream",
     "text": [
      "Class MORTGAGE accuracy: 77.60%\n",
      "Class OWN accuracy: 0.07%\n",
      "Class RENT accuracy: 78.34%\n"
     ]
    }
   ],
   "source": [
    "# Now, let us calculate class-specific accuracies\n",
    "class_accuracies = cm.diagonal() / cm.sum(axis=1)\n",
    "\n",
    "# Display accuracies for each class\n",
    "for i, accuracy in enumerate(class_accuracies):\n",
    "    print(f\"Class {best_model_l1.classes_[i]} accuracy: {accuracy:.2%}\")"
   ]
  },
  {
   "cell_type": "markdown",
   "id": "429a4cfc-d653-4069-91b7-9d6e2935d41e",
   "metadata": {},
   "source": [
    "**Discussion:** The low validation F1 score (0.676) is primarily due to the imbalanced distribution of classes, as evidenced by the extreme differences in class-specific accuracies: \"MORTGAGE\" and \"RENT\" have high accuracies (77.60% and 78.34%, respectively), while \"OWN\" has an extremely low accuracy of 0.07%. This likely indicates that \"OWN\" is significantly underrepresented in the dataset, causing the model to struggle to learn its patterns and favor the majority classes (\"MORTGAGE\" and \"RENT\") instead. Such class imbalances spoil the model's performance, as it prioritizes optimizing for the dominant classes. In this sense, resampling techniques or cost-sensitive learning can be possible solutions."
   ]
  },
  {
   "cell_type": "code",
   "execution_count": null,
   "id": "26f8b5aa-0ff1-40c9-8e02-a8b241a2aaee",
   "metadata": {},
   "outputs": [],
   "source": []
  },
  {
   "cell_type": "code",
   "execution_count": null,
   "id": "fa42a5d6-4b14-45e7-8c4b-84603f13dcf9",
   "metadata": {},
   "outputs": [],
   "source": []
  },
  {
   "cell_type": "markdown",
   "id": "fa9b9171-a3a5-4033-aba1-01e2e34164a9",
   "metadata": {},
   "source": [
    "# END"
   ]
  }
 ],
 "metadata": {
  "kernelspec": {
   "display_name": "Python 3 (ipykernel)",
   "language": "python",
   "name": "python3"
  },
  "language_info": {
   "codemirror_mode": {
    "name": "ipython",
    "version": 3
   },
   "file_extension": ".py",
   "mimetype": "text/x-python",
   "name": "python",
   "nbconvert_exporter": "python",
   "pygments_lexer": "ipython3",
   "version": "3.9.18"
  }
 },
 "nbformat": 4,
 "nbformat_minor": 5
}
