{
 "cells": [
  {
   "cell_type": "markdown",
   "id": "0ece35e9-90c4-4f1a-9692-69960c669010",
   "metadata": {},
   "source": [
    "# Data Cleaning: Angle-Based Outlier Detection\n",
    "- In this notebook, we will use a subset of Real State Price dataset from Kaggle in file \"kaggle_house_outlier.csv\". For simplicity, we will focus only on numerical attributes.\n",
    "- We will implement the angle-based high-dimensional data cleaning method in this dataset, where a point is defined as an outlier if the standard deviation of the all angle pairs is less thana certain angle (e.g., 20 degrees).\n",
    "- Recall that an angle is always between 0 and 360."
   ]
  },
  {
   "cell_type": "code",
   "execution_count": 1,
   "id": "6cf7fb6c-408f-4f46-b98e-716d7cf35f63",
   "metadata": {},
   "outputs": [],
   "source": [
    "import numpy as np\n",
    "import pandas as pd\n",
    "import matplotlib.pyplot as plt\n",
    "from sklearn.metrics.pairwise import cosine_similarity\n",
    "from sklearn.linear_model import LinearRegression\n",
    "from sklearn.preprocessing import StandardScaler\n",
    "from sklearn.metrics import r2_score, mean_squared_error, mean_absolute_percentage_error\n",
    "import matplotlib.pyplot as plt\n",
    "import statsmodels.api as sm\n",
    "import os\n",
    "%matplotlib inline"
   ]
  },
  {
   "cell_type": "code",
   "execution_count": 2,
   "id": "471512a4-3ad2-4856-b291-b71158ed108c",
   "metadata": {},
   "outputs": [],
   "source": [
    "data_directory = r\"C:\\Users\\sb013698\\Desktop\\github\\Machine Learning in Finance\\Datasets\""
   ]
  },
  {
   "cell_type": "markdown",
   "id": "40e4384a-b8da-468c-a9ee-0751d1d2ffed",
   "metadata": {},
   "source": [
    "**Angle-Based Outlier Detection (ABOD)** identifies outliers by analyzing the variance of angles formed between data points in high-dimensional space. Points with low angular variance exhibit weaker interactions and are classified as outliers, while points with high angular variance are surrounded by many other points in all directions, indicating they are not outliers.\n",
    "\n",
    "\n",
    "<img src=\"Datasets/angle_based_outlier_detection.png\" alt=\"Description of the figure\" width=\"750\">\n",
    "\n",
    "Figure URL: https://machinelearningstories.blogspot.com/2018/08/anomaly-detection-in-high-dimensional.html"
   ]
  },
  {
   "cell_type": "code",
   "execution_count": null,
   "id": "ab811951-1a0f-49a9-98f0-1c4e0d014bd3",
   "metadata": {},
   "outputs": [],
   "source": []
  },
  {
   "cell_type": "code",
   "execution_count": null,
   "id": "22558a62-6c00-467a-8699-eab30b8baafb",
   "metadata": {},
   "outputs": [],
   "source": []
  },
  {
   "cell_type": "code",
   "execution_count": 3,
   "id": "e1adb45b-9418-4442-9a85-53fa87d3b17b",
   "metadata": {},
   "outputs": [
    {
     "name": "stdout",
     "output_type": "stream",
     "text": [
      "(151, 81)\n"
     ]
    }
   ],
   "source": [
    "# Load the dataset\n",
    "data = pd.read_csv(os.path.join(data_directory, \"kaggle_house_outlier.csv\"))\n",
    "print(data.shape)"
   ]
  },
  {
   "cell_type": "code",
   "execution_count": 4,
   "id": "9c6acf9e-1cd4-4f9d-ad32-76fe6422c507",
   "metadata": {},
   "outputs": [
    {
     "data": {
      "text/html": [
       "<div>\n",
       "<style scoped>\n",
       "    .dataframe tbody tr th:only-of-type {\n",
       "        vertical-align: middle;\n",
       "    }\n",
       "\n",
       "    .dataframe tbody tr th {\n",
       "        vertical-align: top;\n",
       "    }\n",
       "\n",
       "    .dataframe thead th {\n",
       "        text-align: right;\n",
       "    }\n",
       "</style>\n",
       "<table border=\"1\" class=\"dataframe\">\n",
       "  <thead>\n",
       "    <tr style=\"text-align: right;\">\n",
       "      <th></th>\n",
       "      <th>Id</th>\n",
       "      <th>MSSubClass</th>\n",
       "      <th>MSZoning</th>\n",
       "      <th>LotFrontage</th>\n",
       "      <th>LotArea</th>\n",
       "      <th>Street</th>\n",
       "      <th>Alley</th>\n",
       "      <th>LotShape</th>\n",
       "      <th>LandContour</th>\n",
       "      <th>Utilities</th>\n",
       "      <th>...</th>\n",
       "      <th>PoolArea</th>\n",
       "      <th>PoolQC</th>\n",
       "      <th>Fence</th>\n",
       "      <th>MiscFeature</th>\n",
       "      <th>MiscVal</th>\n",
       "      <th>MoSold</th>\n",
       "      <th>YrSold</th>\n",
       "      <th>SaleType</th>\n",
       "      <th>SaleCondition</th>\n",
       "      <th>SalePrice</th>\n",
       "    </tr>\n",
       "  </thead>\n",
       "  <tbody>\n",
       "    <tr>\n",
       "      <th>0</th>\n",
       "      <td>1.0</td>\n",
       "      <td>60.0</td>\n",
       "      <td>RL</td>\n",
       "      <td>65.0</td>\n",
       "      <td>8450.0</td>\n",
       "      <td>Pave</td>\n",
       "      <td>NaN</td>\n",
       "      <td>Reg</td>\n",
       "      <td>Lvl</td>\n",
       "      <td>AllPub</td>\n",
       "      <td>...</td>\n",
       "      <td>0.0</td>\n",
       "      <td>NaN</td>\n",
       "      <td>NaN</td>\n",
       "      <td>NaN</td>\n",
       "      <td>0.0</td>\n",
       "      <td>2.0</td>\n",
       "      <td>2008.0</td>\n",
       "      <td>WD</td>\n",
       "      <td>Normal</td>\n",
       "      <td>208500.0</td>\n",
       "    </tr>\n",
       "    <tr>\n",
       "      <th>1</th>\n",
       "      <td>2.0</td>\n",
       "      <td>20.0</td>\n",
       "      <td>RL</td>\n",
       "      <td>80.0</td>\n",
       "      <td>9600.0</td>\n",
       "      <td>Pave</td>\n",
       "      <td>NaN</td>\n",
       "      <td>Reg</td>\n",
       "      <td>Lvl</td>\n",
       "      <td>AllPub</td>\n",
       "      <td>...</td>\n",
       "      <td>0.0</td>\n",
       "      <td>NaN</td>\n",
       "      <td>NaN</td>\n",
       "      <td>NaN</td>\n",
       "      <td>0.0</td>\n",
       "      <td>5.0</td>\n",
       "      <td>2007.0</td>\n",
       "      <td>WD</td>\n",
       "      <td>Normal</td>\n",
       "      <td>181500.0</td>\n",
       "    </tr>\n",
       "    <tr>\n",
       "      <th>2</th>\n",
       "      <td>3.0</td>\n",
       "      <td>60.0</td>\n",
       "      <td>RL</td>\n",
       "      <td>68.0</td>\n",
       "      <td>11250.0</td>\n",
       "      <td>Pave</td>\n",
       "      <td>NaN</td>\n",
       "      <td>IR1</td>\n",
       "      <td>Lvl</td>\n",
       "      <td>AllPub</td>\n",
       "      <td>...</td>\n",
       "      <td>0.0</td>\n",
       "      <td>NaN</td>\n",
       "      <td>NaN</td>\n",
       "      <td>NaN</td>\n",
       "      <td>0.0</td>\n",
       "      <td>9.0</td>\n",
       "      <td>2008.0</td>\n",
       "      <td>WD</td>\n",
       "      <td>Normal</td>\n",
       "      <td>223500.0</td>\n",
       "    </tr>\n",
       "    <tr>\n",
       "      <th>3</th>\n",
       "      <td>4.0</td>\n",
       "      <td>70.0</td>\n",
       "      <td>RL</td>\n",
       "      <td>60.0</td>\n",
       "      <td>9550.0</td>\n",
       "      <td>Pave</td>\n",
       "      <td>NaN</td>\n",
       "      <td>IR1</td>\n",
       "      <td>Lvl</td>\n",
       "      <td>AllPub</td>\n",
       "      <td>...</td>\n",
       "      <td>0.0</td>\n",
       "      <td>NaN</td>\n",
       "      <td>NaN</td>\n",
       "      <td>NaN</td>\n",
       "      <td>0.0</td>\n",
       "      <td>2.0</td>\n",
       "      <td>2006.0</td>\n",
       "      <td>WD</td>\n",
       "      <td>Abnorml</td>\n",
       "      <td>140000.0</td>\n",
       "    </tr>\n",
       "    <tr>\n",
       "      <th>4</th>\n",
       "      <td>5.0</td>\n",
       "      <td>60.0</td>\n",
       "      <td>RL</td>\n",
       "      <td>84.0</td>\n",
       "      <td>14260.0</td>\n",
       "      <td>Pave</td>\n",
       "      <td>NaN</td>\n",
       "      <td>IR1</td>\n",
       "      <td>Lvl</td>\n",
       "      <td>AllPub</td>\n",
       "      <td>...</td>\n",
       "      <td>0.0</td>\n",
       "      <td>NaN</td>\n",
       "      <td>NaN</td>\n",
       "      <td>NaN</td>\n",
       "      <td>0.0</td>\n",
       "      <td>12.0</td>\n",
       "      <td>2008.0</td>\n",
       "      <td>WD</td>\n",
       "      <td>Normal</td>\n",
       "      <td>250000.0</td>\n",
       "    </tr>\n",
       "  </tbody>\n",
       "</table>\n",
       "<p>5 rows × 81 columns</p>\n",
       "</div>"
      ],
      "text/plain": [
       "    Id  MSSubClass MSZoning  LotFrontage  LotArea Street Alley LotShape  \\\n",
       "0  1.0        60.0       RL         65.0   8450.0   Pave   NaN      Reg   \n",
       "1  2.0        20.0       RL         80.0   9600.0   Pave   NaN      Reg   \n",
       "2  3.0        60.0       RL         68.0  11250.0   Pave   NaN      IR1   \n",
       "3  4.0        70.0       RL         60.0   9550.0   Pave   NaN      IR1   \n",
       "4  5.0        60.0       RL         84.0  14260.0   Pave   NaN      IR1   \n",
       "\n",
       "  LandContour Utilities  ... PoolArea PoolQC Fence MiscFeature MiscVal MoSold  \\\n",
       "0         Lvl    AllPub  ...      0.0    NaN   NaN         NaN     0.0    2.0   \n",
       "1         Lvl    AllPub  ...      0.0    NaN   NaN         NaN     0.0    5.0   \n",
       "2         Lvl    AllPub  ...      0.0    NaN   NaN         NaN     0.0    9.0   \n",
       "3         Lvl    AllPub  ...      0.0    NaN   NaN         NaN     0.0    2.0   \n",
       "4         Lvl    AllPub  ...      0.0    NaN   NaN         NaN     0.0   12.0   \n",
       "\n",
       "   YrSold  SaleType  SaleCondition  SalePrice  \n",
       "0  2008.0        WD         Normal   208500.0  \n",
       "1  2007.0        WD         Normal   181500.0  \n",
       "2  2008.0        WD         Normal   223500.0  \n",
       "3  2006.0        WD        Abnorml   140000.0  \n",
       "4  2008.0        WD         Normal   250000.0  \n",
       "\n",
       "[5 rows x 81 columns]"
      ]
     },
     "execution_count": 4,
     "metadata": {},
     "output_type": "execute_result"
    }
   ],
   "source": [
    "data.head()"
   ]
  },
  {
   "cell_type": "code",
   "execution_count": 5,
   "id": "0bc81d9a-b74f-4315-ae18-72b7b059430d",
   "metadata": {},
   "outputs": [
    {
     "name": "stdout",
     "output_type": "stream",
     "text": [
      "<class 'pandas.core.frame.DataFrame'>\n",
      "RangeIndex: 151 entries, 0 to 150\n",
      "Data columns (total 39 columns):\n",
      " #   Column         Non-Null Count  Dtype  \n",
      "---  ------         --------------  -----  \n",
      " 0   Id             150 non-null    float64\n",
      " 1   MSSubClass     150 non-null    float64\n",
      " 2   LotFrontage    124 non-null    float64\n",
      " 3   LotArea        150 non-null    float64\n",
      " 4   OverallQual    150 non-null    float64\n",
      " 5   OverallCond    150 non-null    float64\n",
      " 6   YearBuilt      150 non-null    float64\n",
      " 7   YearRemodAdd   150 non-null    float64\n",
      " 8   MasVnrArea     150 non-null    float64\n",
      " 9   BsmtFinSF1     150 non-null    float64\n",
      " 10  BsmtFinSF2     150 non-null    float64\n",
      " 11  BsmtUnfSF      150 non-null    float64\n",
      " 12  TotalBsmtSF    150 non-null    float64\n",
      " 13  1stFlrSF       150 non-null    float64\n",
      " 14  2ndFlrSF       150 non-null    float64\n",
      " 15  LowQualFinSF   150 non-null    float64\n",
      " 16  GrLivArea      150 non-null    float64\n",
      " 17  BsmtFullBath   150 non-null    float64\n",
      " 18  BsmtHalfBath   150 non-null    float64\n",
      " 19  FullBath       150 non-null    float64\n",
      " 20  HalfBath       150 non-null    float64\n",
      " 21  BedroomAbvGr   150 non-null    float64\n",
      " 22  KitchenAbvGr   150 non-null    float64\n",
      " 23  TotRmsAbvGrd   150 non-null    float64\n",
      " 24  Fireplaces     150 non-null    float64\n",
      " 25  GarageYrBlt    139 non-null    float64\n",
      " 26  GarageCars     150 non-null    float64\n",
      " 27  GarageArea     150 non-null    float64\n",
      " 28  WoodDeckSF     150 non-null    float64\n",
      " 29  OpenPorchSF    150 non-null    float64\n",
      " 30  EnclosedPorch  150 non-null    float64\n",
      " 31  3SsnPorch      150 non-null    float64\n",
      " 32  ScreenPorch    150 non-null    float64\n",
      " 33  PoolArea       150 non-null    float64\n",
      " 34  PoolQC         0 non-null      float64\n",
      " 35  MiscVal        150 non-null    float64\n",
      " 36  MoSold         150 non-null    float64\n",
      " 37  YrSold         150 non-null    float64\n",
      " 38  SalePrice      150 non-null    float64\n",
      "dtypes: float64(39)\n",
      "memory usage: 46.1 KB\n"
     ]
    }
   ],
   "source": [
    "# Step 2: Filter numerical columns only\n",
    "numerical_data = data.select_dtypes(include=[np.number])\n",
    "numerical_data.info()"
   ]
  },
  {
   "cell_type": "code",
   "execution_count": 6,
   "id": "3c7fa8d2-c2ca-475a-973d-9b12fa53feac",
   "metadata": {},
   "outputs": [
    {
     "name": "stdout",
     "output_type": "stream",
     "text": [
      "<class 'pandas.core.frame.DataFrame'>\n",
      "RangeIndex: 151 entries, 0 to 150\n",
      "Data columns (total 36 columns):\n",
      " #   Column         Non-Null Count  Dtype  \n",
      "---  ------         --------------  -----  \n",
      " 0   MSSubClass     151 non-null    float64\n",
      " 1   LotFrontage    151 non-null    float64\n",
      " 2   LotArea        151 non-null    float64\n",
      " 3   OverallQual    151 non-null    float64\n",
      " 4   OverallCond    151 non-null    float64\n",
      " 5   YearBuilt      151 non-null    float64\n",
      " 6   YearRemodAdd   151 non-null    float64\n",
      " 7   MasVnrArea     151 non-null    float64\n",
      " 8   BsmtFinSF1     151 non-null    float64\n",
      " 9   BsmtFinSF2     151 non-null    float64\n",
      " 10  BsmtUnfSF      151 non-null    float64\n",
      " 11  TotalBsmtSF    151 non-null    float64\n",
      " 12  1stFlrSF       151 non-null    float64\n",
      " 13  2ndFlrSF       151 non-null    float64\n",
      " 14  LowQualFinSF   151 non-null    float64\n",
      " 15  GrLivArea      151 non-null    float64\n",
      " 16  BsmtFullBath   151 non-null    float64\n",
      " 17  BsmtHalfBath   151 non-null    float64\n",
      " 18  FullBath       151 non-null    float64\n",
      " 19  HalfBath       151 non-null    float64\n",
      " 20  BedroomAbvGr   151 non-null    float64\n",
      " 21  KitchenAbvGr   151 non-null    float64\n",
      " 22  TotRmsAbvGrd   151 non-null    float64\n",
      " 23  Fireplaces     151 non-null    float64\n",
      " 24  GarageYrBlt    151 non-null    float64\n",
      " 25  GarageCars     151 non-null    float64\n",
      " 26  GarageArea     151 non-null    float64\n",
      " 27  WoodDeckSF     151 non-null    float64\n",
      " 28  OpenPorchSF    151 non-null    float64\n",
      " 29  EnclosedPorch  151 non-null    float64\n",
      " 30  3SsnPorch      151 non-null    float64\n",
      " 31  ScreenPorch    151 non-null    float64\n",
      " 32  MiscVal        151 non-null    float64\n",
      " 33  MoSold         151 non-null    float64\n",
      " 34  YrSold         151 non-null    float64\n",
      " 35  SalePrice      151 non-null    float64\n",
      "dtypes: float64(36)\n",
      "memory usage: 42.6 KB\n"
     ]
    }
   ],
   "source": [
    "# Remove unnecessary columns\n",
    "cols_to_remove = [\"Id\", \"PoolArea\", \"PoolQC\"]\n",
    "numerical_data = numerical_data.drop(columns=cols_to_remove)\n",
    "\n",
    "# Apply mean imputation for the columns with relatively less missing values\n",
    "numerical_data = numerical_data.apply(lambda x: x.fillna(x.mean()))\n",
    "\n",
    "numerical_data.info()"
   ]
  },
  {
   "cell_type": "code",
   "execution_count": 7,
   "id": "1adeadd7-db0a-433b-8267-46718b9b7175",
   "metadata": {},
   "outputs": [
    {
     "data": {
      "text/plain": [
       "(151, 36)"
      ]
     },
     "execution_count": 7,
     "metadata": {},
     "output_type": "execute_result"
    }
   ],
   "source": [
    "numerical_data.shape"
   ]
  },
  {
   "cell_type": "code",
   "execution_count": 8,
   "id": "ae778da6-e26f-43d3-81e3-f2abda47092b",
   "metadata": {},
   "outputs": [],
   "source": [
    "# Normalize data\n",
    "scaler = StandardScaler()\n",
    "scaled_data = scaler.fit_transform(numerical_data.values)"
   ]
  },
  {
   "cell_type": "code",
   "execution_count": 9,
   "id": "a4f423c1-47a6-41cd-aa53-9a044fa3bd7e",
   "metadata": {},
   "outputs": [
    {
     "data": {
      "image/png": "[encoded data removed]",
      "text/plain": [
       "<Figure size 800x600 with 1 Axes>"
      ]
     },
     "metadata": {},
     "output_type": "display_data"
    }
   ],
   "source": [
    "# First, observe the distribution of the standard deviation of angles\n",
    "np.random.seed(42)\n",
    "\n",
    "# Calculate cosine similarities\n",
    "cos_sim_matrix = cosine_similarity(scaled_data)\n",
    "\n",
    "# Convert cosine similarities to angles in radians, and then degrees\n",
    "angle_matrix = np.arccos(np.clip(cos_sim_matrix, -1, 1)) * (180 / np.pi)\n",
    "\n",
    "# Store the the standard deviation of angles for each point\n",
    "std_list = list()\n",
    "\n",
    "# Calculate the standard deviation of angles for each point\n",
    "for i in range(angle_matrix.shape[0]):\n",
    "    angle_std_dev = np.std(angle_matrix[i, :])\n",
    "    std_list.append(angle_std_dev)\n",
    "\n",
    "# Plot histogram of the standard deviation values\n",
    "plt.figure(figsize=(8, 6))\n",
    "plt.hist(std_list, bins=20, edgecolor='black')\n",
    "plt.title('Histogram of Angle Standard Deviations')\n",
    "plt.xlabel('Standard Deviation of Angles')\n",
    "plt.ylabel('Frequency')\n",
    "plt.grid(False)\n",
    "plt.show()"
   ]
  },
  {
   "cell_type": "code",
   "execution_count": 10,
   "id": "69f20cae-f6c0-41c9-9341-c5b678ca41ce",
   "metadata": {},
   "outputs": [
    {
     "name": "stdout",
     "output_type": "stream",
     "text": [
      "Number of detected outliers: 9\n",
      "Outlier indices: [3, 5, 33, 50, 51, 55, 88, 129, 142]\n"
     ]
    }
   ],
   "source": [
    "# We see that std. of the angles are distributed btw. 10-28 degrees.\n",
    "# Thus, we should select a reasonable angle threshold to define outlier.\n",
    "\n",
    "# Define an angle threshold\n",
    "threshold = 12.5\n",
    "\n",
    "# Store outlier indices\n",
    "outliers = list()\n",
    "\n",
    "# Calculate the standard deviation of angles for each point\n",
    "for i in range(angle_matrix.shape[0]):\n",
    "    angle_std_dev = np.std(angle_matrix[i, :])\n",
    "    \n",
    "    # Identify outliers based on angle standard deviation threshold\n",
    "    if angle_std_dev < threshold:\n",
    "        outliers.append(i)\n",
    "\n",
    "# Step 6: Output the results\n",
    "print(f\"Number of detected outliers: {len(outliers)}\")\n",
    "print(\"Outlier indices:\", outliers)"
   ]
  },
  {
   "cell_type": "markdown",
   "id": "b4374795-2278-4d79-8d8b-945a380bc74b",
   "metadata": {},
   "source": [
    "# Predicting House Price with Linear Regression\n",
    "\n",
    "- We will now focus on the Real Estate Price dataset from Kaggle to implement a linear regression model using sklearn. The goal is to predict house prices (last column) based on the following attributes: MSSubClass, LotFrontage, LotArea, MasVnrArea, BsmtFinSF1, and YrSold.\n",
    "- Additionally, we will apply a t-test from the statsmodels library to assess the significance of each attribute in predicting the house price."
   ]
  },
  {
   "cell_type": "code",
   "execution_count": 11,
   "id": "b10661d7-9092-445e-98ab-44e68aea7e97",
   "metadata": {},
   "outputs": [],
   "source": [
    "# Open training and test datasets\n",
    "house_train = pd.read_csv(os.path.join(data_directory, \"kaggle_house_pred_train.csv\"))\n",
    "house_test = pd.read_csv(os.path.join(data_directory, \"kaggle_house_pred_test.csv\"))\n",
    "\n",
    "# Define the required attributes\n",
    "required_columns = [\"MSSubClass\", \"LotFrontage\", \"LotArea\", \"MasVnrArea\", \"BsmtFinSF1\", \"YrSold\", \"SalePrice\"]\n",
    "\n",
    "# Map the required columns from the training and test datasets\n",
    "train_data = house_train[required_columns].copy()\n",
    "test_data = house_test[required_columns].copy()"
   ]
  },
  {
   "cell_type": "code",
   "execution_count": 12,
   "id": "47127806-c2fe-4540-951a-cdef344f7599",
   "metadata": {},
   "outputs": [
    {
     "name": "stdout",
     "output_type": "stream",
     "text": [
      "<class 'pandas.core.frame.DataFrame'>\n",
      "RangeIndex: 1460 entries, 0 to 1459\n",
      "Data columns (total 7 columns):\n",
      " #   Column       Non-Null Count  Dtype  \n",
      "---  ------       --------------  -----  \n",
      " 0   MSSubClass   1460 non-null   int64  \n",
      " 1   LotFrontage  1201 non-null   float64\n",
      " 2   LotArea      1460 non-null   int64  \n",
      " 3   MasVnrArea   1452 non-null   float64\n",
      " 4   BsmtFinSF1   1460 non-null   int64  \n",
      " 5   YrSold       1460 non-null   int64  \n",
      " 6   SalePrice    1460 non-null   int64  \n",
      "dtypes: float64(2), int64(5)\n",
      "memory usage: 80.0 KB\n"
     ]
    }
   ],
   "source": [
    "train_data.info()"
   ]
  },
  {
   "cell_type": "code",
   "execution_count": 13,
   "id": "09bdb36e-548f-4adf-a07d-7712f3fe5ea8",
   "metadata": {},
   "outputs": [
    {
     "name": "stdout",
     "output_type": "stream",
     "text": [
      "<class 'pandas.core.frame.DataFrame'>\n",
      "RangeIndex: 1460 entries, 0 to 1459\n",
      "Data columns (total 7 columns):\n",
      " #   Column       Non-Null Count  Dtype  \n",
      "---  ------       --------------  -----  \n",
      " 0   MSSubClass   1460 non-null   int64  \n",
      " 1   LotFrontage  1460 non-null   float64\n",
      " 2   LotArea      1460 non-null   int64  \n",
      " 3   MasVnrArea   1460 non-null   float64\n",
      " 4   BsmtFinSF1   1460 non-null   int64  \n",
      " 5   YrSold       1460 non-null   int64  \n",
      " 6   SalePrice    1460 non-null   int64  \n",
      "dtypes: float64(2), int64(5)\n",
      "memory usage: 80.0 KB\n"
     ]
    }
   ],
   "source": [
    "# Apply mean imputation for missing values in the training data\n",
    "train_data[\"LotFrontage\"] = train_data[\"LotFrontage\"].fillna(train_data[\"LotFrontage\"].mean())\n",
    "train_data[\"MasVnrArea\"] = train_data[\"MasVnrArea\"].fillna(train_data[\"MasVnrArea\"].mean())\n",
    "\n",
    "# Display updated information about the test data\n",
    "train_data.info()"
   ]
  },
  {
   "cell_type": "code",
   "execution_count": 14,
   "id": "fe593d74-a909-4abe-b20d-1a3661e56daf",
   "metadata": {},
   "outputs": [
    {
     "name": "stdout",
     "output_type": "stream",
     "text": [
      "<class 'pandas.core.frame.DataFrame'>\n",
      "RangeIndex: 1459 entries, 0 to 1458\n",
      "Data columns (total 7 columns):\n",
      " #   Column       Non-Null Count  Dtype  \n",
      "---  ------       --------------  -----  \n",
      " 0   MSSubClass   1459 non-null   int64  \n",
      " 1   LotFrontage  1232 non-null   float64\n",
      " 2   LotArea      1459 non-null   int64  \n",
      " 3   MasVnrArea   1444 non-null   float64\n",
      " 4   BsmtFinSF1   1458 non-null   float64\n",
      " 5   YrSold       1459 non-null   int64  \n",
      " 6   SalePrice    1459 non-null   int64  \n",
      "dtypes: float64(3), int64(4)\n",
      "memory usage: 79.9 KB\n"
     ]
    }
   ],
   "source": [
    "test_data.info()"
   ]
  },
  {
   "cell_type": "code",
   "execution_count": 15,
   "id": "0516c72c-8137-4aad-89c3-3fe81eee3063",
   "metadata": {},
   "outputs": [
    {
     "name": "stdout",
     "output_type": "stream",
     "text": [
      "<class 'pandas.core.frame.DataFrame'>\n",
      "RangeIndex: 1459 entries, 0 to 1458\n",
      "Data columns (total 7 columns):\n",
      " #   Column       Non-Null Count  Dtype  \n",
      "---  ------       --------------  -----  \n",
      " 0   MSSubClass   1459 non-null   int64  \n",
      " 1   LotFrontage  1459 non-null   float64\n",
      " 2   LotArea      1459 non-null   int64  \n",
      " 3   MasVnrArea   1459 non-null   float64\n",
      " 4   BsmtFinSF1   1459 non-null   float64\n",
      " 5   YrSold       1459 non-null   int64  \n",
      " 6   SalePrice    1459 non-null   int64  \n",
      "dtypes: float64(3), int64(4)\n",
      "memory usage: 79.9 KB\n"
     ]
    }
   ],
   "source": [
    "# Apply mean imputation for missing values in the test data\n",
    "test_data[\"LotFrontage\"] = test_data[\"LotFrontage\"].fillna(test_data[\"LotFrontage\"].mean())\n",
    "test_data[\"MasVnrArea\"] = test_data[\"MasVnrArea\"].fillna(test_data[\"MasVnrArea\"].mean())\n",
    "test_data[\"BsmtFinSF1\"] = test_data[\"BsmtFinSF1\"].fillna(test_data[\"BsmtFinSF1\"].mean())\n",
    "\n",
    "# Display updated information about the test data\n",
    "test_data.info()"
   ]
  },
  {
   "cell_type": "code",
   "execution_count": 16,
   "id": "a78e7c70-e30a-4560-bb66-f931dece8318",
   "metadata": {},
   "outputs": [],
   "source": [
    "# Define features and targets\n",
    "X_train, y_train = train_data.drop(columns=\"SalePrice\"), train_data[\"SalePrice\"].values\n",
    "X_test, y_test = test_data.drop(columns=\"SalePrice\"), test_data[\"SalePrice\"].values\n",
    "\n",
    "# Normalize data\n",
    "scaler = StandardScaler()\n",
    "scaler.fit(X_train)\n",
    "X_train_scaled = scaler.transform(X_train)\n",
    "X_test_scaled = scaler.transform(X_test)"
   ]
  },
  {
   "cell_type": "code",
   "execution_count": 17,
   "id": "fc10268c-6396-44a2-b88b-0c9570aae900",
   "metadata": {},
   "outputs": [
    {
     "name": "stdout",
     "output_type": "stream",
     "text": [
      "R2: -6.041\n",
      "MSE: 1919871062.367\n",
      "MAPE: 0.178\n"
     ]
    }
   ],
   "source": [
    "# Create a linear regression model\n",
    "model = LinearRegression()\n",
    "\n",
    "# Train the model and make predictions\n",
    "model.fit(X_train_scaled, y_train)\n",
    "preds = model.predict(X_test_scaled)\n",
    "\n",
    "# Evaluate the model's performance on the test set\n",
    "r2 = r2_score(y_test, preds)\n",
    "mse = mean_squared_error(y_test, preds)\n",
    "mape = mean_absolute_percentage_error(y_test, preds)\n",
    "\n",
    "print(f\"R2: {r2:.3f}\")\n",
    "print(f\"MSE: {mse:.3f}\")\n",
    "print(f\"MAPE: {mape:.3f}\")"
   ]
  },
  {
   "cell_type": "code",
   "execution_count": 18,
   "id": "b531676e-ac36-4420-bd7d-4ddd536445d1",
   "metadata": {},
   "outputs": [
    {
     "data": {
      "image/png": "[encoded data removed]",
      "text/plain": [
       "<Figure size 600x400 with 1 Axes>"
      ]
     },
     "metadata": {},
     "output_type": "display_data"
    }
   ],
   "source": [
    "# Scatter plot of actual vs. predicted values\n",
    "plt.figure(figsize=(6, 4))\n",
    "plt.scatter(y_test, preds, alpha=0.3, color='b')\n",
    "plt.xlabel('Targets')\n",
    "plt.ylabel('Predictions')\n",
    "plt.grid(True)\n",
    "plt.show()"
   ]
  },
  {
   "cell_type": "markdown",
   "id": "d817d714-7e60-4b2e-b674-4fb482a21b19",
   "metadata": {},
   "source": [
    "## T-Test"
   ]
  },
  {
   "cell_type": "code",
   "execution_count": 19,
   "id": "c590c5ca-c83b-42f7-9ca5-ae49e9d582cd",
   "metadata": {},
   "outputs": [
    {
     "name": "stdout",
     "output_type": "stream",
     "text": [
      "                            OLS Regression Results                            \n",
      "==============================================================================\n",
      "Dep. Variable:                      y   R-squared:                       0.357\n",
      "Model:                            OLS   Adj. R-squared:                  0.354\n",
      "Method:                 Least Squares   F-statistic:                     134.3\n",
      "Date:                Thu, 09 Jan 2025   Prob (F-statistic):          2.22e-135\n",
      "Time:                        20:00:47   Log-Likelihood:                -18222.\n",
      "No. Observations:                1460   AIC:                         3.646e+04\n",
      "Df Residuals:                    1453   BIC:                         3.649e+04\n",
      "Df Model:                           6                                         \n",
      "Covariance Type:            nonrobust                                         \n",
      "==============================================================================\n",
      "                 coef    std err          t      P>|t|      [0.025      0.975]\n",
      "------------------------------------------------------------------------------\n",
      "const       1.809e+05   1671.018    108.270      0.000    1.78e+05    1.84e+05\n",
      "x1           421.0730   1798.807      0.234      0.815   -3107.464    3949.610\n",
      "x2          1.471e+04   1905.927      7.718      0.000     1.1e+04    1.84e+04\n",
      "x3          9606.4725   1780.167      5.396      0.000    6114.500    1.31e+04\n",
      "x4          2.939e+04   1755.514     16.743      0.000    2.59e+04    3.28e+04\n",
      "x5          1.777e+04   1781.143      9.977      0.000    1.43e+04    2.13e+04\n",
      "x6         -2265.0578   1671.991     -1.355      0.176   -5544.833    1014.717\n",
      "==============================================================================\n",
      "Omnibus:                      328.046   Durbin-Watson:                   1.970\n",
      "Prob(Omnibus):                  0.000   Jarque-Bera (JB):             3644.912\n",
      "Skew:                           0.714   Prob(JB):                         0.00\n",
      "Kurtosis:                      10.608   Cond. No.                         1.77\n",
      "==============================================================================\n",
      "\n",
      "Notes:\n",
      "[1] Standard Errors assume that the covariance matrix of the errors is correctly specified.\n"
     ]
    }
   ],
   "source": [
    "# Add a constant for intercept\n",
    "X_train_with_const = sm.add_constant(X_train_scaled)\n",
    "\n",
    "# Train the model\n",
    "model = sm.OLS(y_train, X_train_with_const).fit()\n",
    "\n",
    "# Print regression summary\n",
    "print(model.summary())"
   ]
  },
  {
   "cell_type": "markdown",
   "id": "b42086f8-0895-438e-99ac-6b1928c5716f",
   "metadata": {},
   "source": [
    "**Discussion:** The following coefficients, x2, x3, x4, and x5, have large t-values and small p-values. This indicates strong evidence against the null hypothesis that these coefficients are zero. Thus, these features are statistically significant in the regression.\n",
    "\n",
    "Significant features in predicting house price:\n",
    "- x2: LotFrontage\n",
    "- x3: LotArea\n",
    "- x4: MasVnrArea\n",
    "- x5: BsmtFinSF1"
   ]
  },
  {
   "cell_type": "code",
   "execution_count": null,
   "id": "b3661c5b-423c-40b6-8ba1-82b422feb9bf",
   "metadata": {},
   "outputs": [],
   "source": []
  },
  {
   "cell_type": "code",
   "execution_count": null,
   "id": "9026a3cc-fc83-4a28-9ec9-8a896f4ac281",
   "metadata": {},
   "outputs": [],
   "source": []
  },
  {
   "cell_type": "markdown",
   "id": "078d9200-d696-4246-a00b-9d2f9d2d0f8e",
   "metadata": {},
   "source": [
    "# END"
   ]
  }
 ],
 "metadata": {
  "kernelspec": {
   "display_name": "Python 3 (ipykernel)",
   "language": "python",
   "name": "python3"
  },
  "language_info": {
   "codemirror_mode": {
    "name": "ipython",
    "version": 3
   },
   "file_extension": ".py",
   "mimetype": "text/x-python",
   "name": "python",
   "nbconvert_exporter": "python",
   "pygments_lexer": "ipython3",
   "version": "3.8.1"
  }
 },
 "nbformat": 4,
 "nbformat_minor": 5
}
