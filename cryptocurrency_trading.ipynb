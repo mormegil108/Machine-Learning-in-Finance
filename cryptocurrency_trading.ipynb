{
 "cells": [
  {
   "cell_type": "markdown",
   "id": "a75c912d-30c0-4393-9e2e-00c12f4c4c86",
   "metadata": {},
   "source": [
    "# Cryptocurrency Trading via Multivariate AR (VAR)"
   ]
  },
  {
   "cell_type": "code",
   "execution_count": 1,
   "id": "22924a32-dbfd-49a3-98a8-cc3b338dfeb7",
   "metadata": {},
   "outputs": [],
   "source": [
    "import pandas as pd\n",
    "import numpy as np\n",
    "import yfinance as yf\n",
    "import statsmodels.api as sm\n",
    "from statsmodels.tsa.api import VAR\n",
    "from sklearn.metrics import mean_squared_error, mean_absolute_percentage_error\n",
    "import itertools\n",
    "import os"
   ]
  },
  {
   "cell_type": "code",
   "execution_count": 2,
   "id": "61303ebc-5f20-4845-bb45-c933cc1f1b80",
   "metadata": {},
   "outputs": [],
   "source": [
    "data_directory = r\"C:\\Users\\sb013698\\Desktop\\github\\Machine Learning in Finance\\Datasets\""
   ]
  },
  {
   "cell_type": "markdown",
   "id": "e07b963e-79c2-4ad9-b640-a37c33cc4c0f",
   "metadata": {},
   "source": [
    "- In this question, you model the price dynamics of multiple cryptocurrencies jointly via multivariate AR (Vector AR). \n",
    "- We will focus on the following assets only: BTC, ETH, LTC, SOL, AVAX, BNB.\n",
    "- Since cryptocurrency markets are 7/24, we will use the latest data in UTC time as the close price.\n",
    "- Our training period 2021-2022 and test period will be 2022-2023. Once predicted after training, our portfolio will be allocated to the top two cryptocurrencies with the highest return estimation.\n",
    "- We will report the best model in terms of Information Ratio by considering the parameters p and q in ranges [0, 1, 5].\n",
    "\n",
    "> **The Vector Autoregressive (VAR) model** is a statistical model used to capture the linear interdependencies among multiple time series. It extends the univariate autoregressive model to a multivariate framework."
   ]
  },
  {
   "cell_type": "code",
   "execution_count": 3,
   "id": "6e8e6d6a-53ed-4a31-9c40-d8f7c4029b75",
   "metadata": {},
   "outputs": [
    {
     "name": "stderr",
     "output_type": "stream",
     "text": [
      "[*********************100%***********************]  1 of 1 completed\n",
      "[*********************100%***********************]  1 of 1 completed"
     ]
    },
    {
     "name": "stdout",
     "output_type": "stream",
     "text": [
      "Fetched 1094 rows for BTC-USD\n",
      "Fetched 1094 rows for ETH-USD\n"
     ]
    },
    {
     "name": "stderr",
     "output_type": "stream",
     "text": [
      "\n",
      "[*********************100%***********************]  1 of 1 completed\n",
      "[*********************100%***********************]  1 of 1 completed\n"
     ]
    },
    {
     "name": "stdout",
     "output_type": "stream",
     "text": [
      "Fetched 1094 rows for LTC-USD\n",
      "Fetched 1094 rows for SOL-USD\n"
     ]
    },
    {
     "name": "stderr",
     "output_type": "stream",
     "text": [
      "[*********************100%***********************]  1 of 1 completed\n",
      "[*********************100%***********************]  1 of 1 completed"
     ]
    },
    {
     "name": "stdout",
     "output_type": "stream",
     "text": [
      "Fetched 1094 rows for AVAX-USD\n",
      "Fetched 1094 rows for BNB-USD\n",
      "(1094, 6)\n"
     ]
    },
    {
     "name": "stderr",
     "output_type": "stream",
     "text": [
      "\n"
     ]
    }
   ],
   "source": [
    "# Define the list of cryptocurrencies and the date range\n",
    "cryptos = ['BTC-USD', 'ETH-USD', 'LTC-USD', 'SOL-USD', 'AVAX-USD', 'BNB-USD']\n",
    "start_date = \"2021-01-01\"\n",
    "end_date = \"2023-12-31\"\n",
    "\n",
    "# Initialize an empty dictionary to store 'Close' prices\n",
    "crypto_close_prices = {}\n",
    "\n",
    "# Fetch data for each cryptocurrency\n",
    "for crypto in cryptos:\n",
    "    try:\n",
    "        # Download the historical data\n",
    "        data = yf.download(crypto, start=start_date, end=end_date)\n",
    "        if not data.empty:\n",
    "            # Extract 'Close' prices and store in the dictionary\n",
    "            crypto_close_prices[crypto] = data[['Close']]\n",
    "            print(f\"Fetched {len(data)} rows for {crypto}\")\n",
    "        else:\n",
    "            print(f\"No data available for {crypto}\")\n",
    "    except Exception as e:\n",
    "        print(f\"Failed to fetch data for {crypto}: {e}\")\n",
    "\n",
    "# Check if the dictionary is empty\n",
    "if not crypto_close_prices:\n",
    "    print(\"No data was fetched for any cryptocurrency.\")\n",
    "else:\n",
    "    # Extract the time index (Date) from one of the DataFrames\n",
    "    time_index = crypto_close_prices[\"BTC-USD\"].index\n",
    "\n",
    "    # Initialize an empty DataFrame to hold the final close prices\n",
    "    close_prices_df = pd.DataFrame(index=time_index)\n",
    "\n",
    "    # Add each cryptocurrency's Close prices to the DataFrame\n",
    "    for crypto, df in crypto_close_prices.items():\n",
    "        close_prices_df[crypto] = df['Close']\n",
    "\n",
    "# Save the resulting DataFrame to a CSV file\n",
    "close_prices_df.to_csv(os.path.join(data_directory, \"crypto_close_prices.csv\"))\n",
    "\n",
    "print(close_prices_df.shape)"
   ]
  },
  {
   "cell_type": "code",
   "execution_count": 4,
   "id": "47acd54d-9983-4672-ae09-9c1bca6c847b",
   "metadata": {},
   "outputs": [
    {
     "data": {
      "text/html": [
       "<div>\n",
       "<style scoped>\n",
       "    .dataframe tbody tr th:only-of-type {\n",
       "        vertical-align: middle;\n",
       "    }\n",
       "\n",
       "    .dataframe tbody tr th {\n",
       "        vertical-align: top;\n",
       "    }\n",
       "\n",
       "    .dataframe thead th {\n",
       "        text-align: right;\n",
       "    }\n",
       "</style>\n",
       "<table border=\"1\" class=\"dataframe\">\n",
       "  <thead>\n",
       "    <tr style=\"text-align: right;\">\n",
       "      <th></th>\n",
       "      <th>BTC-USD</th>\n",
       "      <th>ETH-USD</th>\n",
       "      <th>LTC-USD</th>\n",
       "      <th>SOL-USD</th>\n",
       "      <th>AVAX-USD</th>\n",
       "      <th>BNB-USD</th>\n",
       "    </tr>\n",
       "    <tr>\n",
       "      <th>Date</th>\n",
       "      <th></th>\n",
       "      <th></th>\n",
       "      <th></th>\n",
       "      <th></th>\n",
       "      <th></th>\n",
       "      <th></th>\n",
       "    </tr>\n",
       "  </thead>\n",
       "  <tbody>\n",
       "    <tr>\n",
       "      <th>2021-01-01 00:00:00+00:00</th>\n",
       "      <td>29374.152344</td>\n",
       "      <td>730.367554</td>\n",
       "      <td>126.230347</td>\n",
       "      <td>1.842084</td>\n",
       "      <td>3.664823</td>\n",
       "      <td>37.905010</td>\n",
       "    </tr>\n",
       "    <tr>\n",
       "      <th>2021-01-02 00:00:00+00:00</th>\n",
       "      <td>32127.267578</td>\n",
       "      <td>774.534973</td>\n",
       "      <td>136.944885</td>\n",
       "      <td>1.799275</td>\n",
       "      <td>3.494940</td>\n",
       "      <td>38.241592</td>\n",
       "    </tr>\n",
       "    <tr>\n",
       "      <th>2021-01-03 00:00:00+00:00</th>\n",
       "      <td>32782.023438</td>\n",
       "      <td>975.507690</td>\n",
       "      <td>160.190582</td>\n",
       "      <td>2.161752</td>\n",
       "      <td>3.472944</td>\n",
       "      <td>41.148979</td>\n",
       "    </tr>\n",
       "    <tr>\n",
       "      <th>2021-01-04 00:00:00+00:00</th>\n",
       "      <td>31971.914062</td>\n",
       "      <td>1040.233032</td>\n",
       "      <td>154.807327</td>\n",
       "      <td>2.485097</td>\n",
       "      <td>3.590243</td>\n",
       "      <td>40.926353</td>\n",
       "    </tr>\n",
       "    <tr>\n",
       "      <th>2021-01-05 00:00:00+00:00</th>\n",
       "      <td>33992.429688</td>\n",
       "      <td>1100.006104</td>\n",
       "      <td>158.594772</td>\n",
       "      <td>2.157217</td>\n",
       "      <td>4.237412</td>\n",
       "      <td>41.734600</td>\n",
       "    </tr>\n",
       "    <tr>\n",
       "      <th>2021-01-06 00:00:00+00:00</th>\n",
       "      <td>36824.363281</td>\n",
       "      <td>1207.112183</td>\n",
       "      <td>169.016922</td>\n",
       "      <td>1.929217</td>\n",
       "      <td>4.620357</td>\n",
       "      <td>42.165955</td>\n",
       "    </tr>\n",
       "    <tr>\n",
       "      <th>2021-01-07 00:00:00+00:00</th>\n",
       "      <td>39371.042969</td>\n",
       "      <td>1225.678101</td>\n",
       "      <td>169.615952</td>\n",
       "      <td>2.372745</td>\n",
       "      <td>4.476613</td>\n",
       "      <td>43.449490</td>\n",
       "    </tr>\n",
       "    <tr>\n",
       "      <th>2021-01-08 00:00:00+00:00</th>\n",
       "      <td>40797.609375</td>\n",
       "      <td>1224.197144</td>\n",
       "      <td>173.279877</td>\n",
       "      <td>3.219887</td>\n",
       "      <td>5.797110</td>\n",
       "      <td>42.395317</td>\n",
       "    </tr>\n",
       "    <tr>\n",
       "      <th>2021-01-09 00:00:00+00:00</th>\n",
       "      <td>40254.546875</td>\n",
       "      <td>1281.077271</td>\n",
       "      <td>177.483932</td>\n",
       "      <td>3.385382</td>\n",
       "      <td>7.218531</td>\n",
       "      <td>43.932854</td>\n",
       "    </tr>\n",
       "    <tr>\n",
       "      <th>2021-01-10 00:00:00+00:00</th>\n",
       "      <td>38356.441406</td>\n",
       "      <td>1262.246704</td>\n",
       "      <td>171.114838</td>\n",
       "      <td>3.466111</td>\n",
       "      <td>6.586496</td>\n",
       "      <td>42.448475</td>\n",
       "    </tr>\n",
       "  </tbody>\n",
       "</table>\n",
       "</div>"
      ],
      "text/plain": [
       "                                BTC-USD      ETH-USD     LTC-USD   SOL-USD  \\\n",
       "Date                                                                         \n",
       "2021-01-01 00:00:00+00:00  29374.152344   730.367554  126.230347  1.842084   \n",
       "2021-01-02 00:00:00+00:00  32127.267578   774.534973  136.944885  1.799275   \n",
       "2021-01-03 00:00:00+00:00  32782.023438   975.507690  160.190582  2.161752   \n",
       "2021-01-04 00:00:00+00:00  31971.914062  1040.233032  154.807327  2.485097   \n",
       "2021-01-05 00:00:00+00:00  33992.429688  1100.006104  158.594772  2.157217   \n",
       "2021-01-06 00:00:00+00:00  36824.363281  1207.112183  169.016922  1.929217   \n",
       "2021-01-07 00:00:00+00:00  39371.042969  1225.678101  169.615952  2.372745   \n",
       "2021-01-08 00:00:00+00:00  40797.609375  1224.197144  173.279877  3.219887   \n",
       "2021-01-09 00:00:00+00:00  40254.546875  1281.077271  177.483932  3.385382   \n",
       "2021-01-10 00:00:00+00:00  38356.441406  1262.246704  171.114838  3.466111   \n",
       "\n",
       "                           AVAX-USD    BNB-USD  \n",
       "Date                                            \n",
       "2021-01-01 00:00:00+00:00  3.664823  37.905010  \n",
       "2021-01-02 00:00:00+00:00  3.494940  38.241592  \n",
       "2021-01-03 00:00:00+00:00  3.472944  41.148979  \n",
       "2021-01-04 00:00:00+00:00  3.590243  40.926353  \n",
       "2021-01-05 00:00:00+00:00  4.237412  41.734600  \n",
       "2021-01-06 00:00:00+00:00  4.620357  42.165955  \n",
       "2021-01-07 00:00:00+00:00  4.476613  43.449490  \n",
       "2021-01-08 00:00:00+00:00  5.797110  42.395317  \n",
       "2021-01-09 00:00:00+00:00  7.218531  43.932854  \n",
       "2021-01-10 00:00:00+00:00  6.586496  42.448475  "
      ]
     },
     "execution_count": 4,
     "metadata": {},
     "output_type": "execute_result"
    }
   ],
   "source": [
    "close_prices_df.head(10)"
   ]
  },
  {
   "cell_type": "code",
   "execution_count": 5,
   "id": "86964cd4-40fb-4950-a23d-7aa1a3914694",
   "metadata": {},
   "outputs": [
    {
     "name": "stdout",
     "output_type": "stream",
     "text": [
      "Train shape: (730, 6)\n",
      "Test shape: (364, 6)\n"
     ]
    }
   ],
   "source": [
    "# Convert Date index to datetime (if not already)\n",
    "close_prices_df.index = pd.to_datetime(close_prices_df.index)\n",
    "\n",
    "# Split data into training (2021-2022) and testing (2022-2023) periods\n",
    "train_data = close_prices_df['2021-01-01':'2022-12-31']\n",
    "test_data = close_prices_df['2023-01-01':'2023-12-31']\n",
    "\n",
    "# Set the frequency explicitly (e.g., 'D' for daily, 'M' for monthly)\n",
    "train_data = train_data.asfreq('D')\n",
    "test_data = test_data.asfreq('D')\n",
    "\n",
    "print(f\"Train shape: {train_data.shape}\")\n",
    "print(f\"Test shape: {test_data.shape}\")"
   ]
  },
  {
   "cell_type": "code",
   "execution_count": 6,
   "id": "806eb157-e9f6-4eb2-b55b-561f8e7dd131",
   "metadata": {},
   "outputs": [
    {
     "name": "stdout",
     "output_type": "stream",
     "text": [
      "Number of combinations: 6\n",
      "[(1, 0), (1, 1), (1, 5), (5, 0), (5, 1), (5, 5)]\n"
     ]
    }
   ],
   "source": [
    "# Create combinations from model parameters\n",
    "p_values = [1, 5]\n",
    "q_values = [0, 1, 5]\n",
    "combinations = list(itertools.product(p_values, q_values))\n",
    "print(f\"Number of combinations: {len(combinations)}\")\n",
    "print(combinations)"
   ]
  },
  {
   "cell_type": "code",
   "execution_count": 7,
   "id": "5dcdfadf-cd9f-4af6-a087-1d9aa605b1fa",
   "metadata": {},
   "outputs": [],
   "source": [
    "# Store scenario errors\n",
    "error_list = list()\n",
    "\n",
    "for p, q in combinations:\n",
    "\n",
    "    # Fit the VAR model on the training data\n",
    "    model = VAR(train_data)\n",
    "    fitted_model = model.fit(maxlags=p, ic='aic')  # Fit the model using AIC to select optimal lags\n",
    "\n",
    "    # Make predictions for the test data\n",
    "    # Use the most recent data to generate future forecasts\n",
    "    forecast = fitted_model.forecast(\n",
    "        # fitted_model.k_ar : attribute of the VAR model representing the number of lags the model has been trained on\n",
    "        train_data.values[-fitted_model.k_ar:],  \n",
    "        steps=len(test_data), # number of future time steps for which the VAR will generate forecasts\n",
    "    )\n",
    "    forecast_df = pd.DataFrame(forecast, index=test_data.index, columns=test_data.columns)\n",
    "\n",
    "    # Evaluate test performance\n",
    "    mse = mean_squared_error(forecast_df, test_data)\n",
    "    mape = mean_absolute_percentage_error(forecast_df, test_data)\n",
    "\n",
    "    # Store the error and the corresponding p, q values\n",
    "    error_list.append({\n",
    "        'p': p,\n",
    "        'q': q,\n",
    "        'MSE': mse,\n",
    "        'MAPE': mape,\n",
    "    })\n",
    "\n",
    "scenario_df = pd.DataFrame(error_list)"
   ]
  },
  {
   "cell_type": "code",
   "execution_count": 8,
   "id": "5e49a5e4-6b7f-4ed1-afa8-207714213359",
   "metadata": {},
   "outputs": [
    {
     "data": {
      "text/html": [
       "<div>\n",
       "<style scoped>\n",
       "    .dataframe tbody tr th:only-of-type {\n",
       "        vertical-align: middle;\n",
       "    }\n",
       "\n",
       "    .dataframe tbody tr th {\n",
       "        vertical-align: top;\n",
       "    }\n",
       "\n",
       "    .dataframe thead th {\n",
       "        text-align: right;\n",
       "    }\n",
       "</style>\n",
       "<table border=\"1\" class=\"dataframe\">\n",
       "  <thead>\n",
       "    <tr style=\"text-align: right;\">\n",
       "      <th></th>\n",
       "      <th>p</th>\n",
       "      <th>q</th>\n",
       "      <th>MSE</th>\n",
       "      <th>MAPE</th>\n",
       "    </tr>\n",
       "  </thead>\n",
       "  <tbody>\n",
       "    <tr>\n",
       "      <th>3</th>\n",
       "      <td>5</td>\n",
       "      <td>0</td>\n",
       "      <td>4.069594e+06</td>\n",
       "      <td>1.190033</td>\n",
       "    </tr>\n",
       "    <tr>\n",
       "      <th>4</th>\n",
       "      <td>5</td>\n",
       "      <td>1</td>\n",
       "      <td>4.069594e+06</td>\n",
       "      <td>1.190033</td>\n",
       "    </tr>\n",
       "    <tr>\n",
       "      <th>5</th>\n",
       "      <td>5</td>\n",
       "      <td>5</td>\n",
       "      <td>4.069594e+06</td>\n",
       "      <td>1.190033</td>\n",
       "    </tr>\n",
       "    <tr>\n",
       "      <th>0</th>\n",
       "      <td>1</td>\n",
       "      <td>0</td>\n",
       "      <td>3.333650e+06</td>\n",
       "      <td>2.731085</td>\n",
       "    </tr>\n",
       "    <tr>\n",
       "      <th>1</th>\n",
       "      <td>1</td>\n",
       "      <td>1</td>\n",
       "      <td>3.333650e+06</td>\n",
       "      <td>2.731085</td>\n",
       "    </tr>\n",
       "    <tr>\n",
       "      <th>2</th>\n",
       "      <td>1</td>\n",
       "      <td>5</td>\n",
       "      <td>3.333650e+06</td>\n",
       "      <td>2.731085</td>\n",
       "    </tr>\n",
       "  </tbody>\n",
       "</table>\n",
       "</div>"
      ],
      "text/plain": [
       "   p  q           MSE      MAPE\n",
       "3  5  0  4.069594e+06  1.190033\n",
       "4  5  1  4.069594e+06  1.190033\n",
       "5  5  5  4.069594e+06  1.190033\n",
       "0  1  0  3.333650e+06  2.731085\n",
       "1  1  1  3.333650e+06  2.731085\n",
       "2  1  5  3.333650e+06  2.731085"
      ]
     },
     "execution_count": 8,
     "metadata": {},
     "output_type": "execute_result"
    }
   ],
   "source": [
    "scenario_df.sort_values(by=\"MAPE\", ascending=True)"
   ]
  },
  {
   "cell_type": "markdown",
   "id": "e2def371-ea6d-4213-a538-20327a6f1e92",
   "metadata": {},
   "source": [
    "**Discussion:** The results from the VAR model evaluation indicate that it struggles to effectively capture the complex dynamics of the cryptocurrency trading time series. Despite varying p and q parameters, the model consistently produces high errors, as reflected in both MSE and MAPE metrics. This suggests that the linear assumptions underlying the VAR model are insufficient for handling cryptocurrency data's inherent volatility, nonlinearity, and noise. Alternative modeling approaches like nonlinear methods like LSTM or GRU may better capture the intricate patterns and dependencies in such time series."
   ]
  },
  {
   "cell_type": "code",
   "execution_count": null,
   "id": "69afd78b-0da5-48e4-8b36-88070e726b55",
   "metadata": {},
   "outputs": [],
   "source": []
  },
  {
   "cell_type": "code",
   "execution_count": null,
   "id": "bfe8bcee-a12f-4683-bd67-1eba9367d68c",
   "metadata": {},
   "outputs": [],
   "source": []
  },
  {
   "cell_type": "markdown",
   "id": "f7db3277-9b34-4028-925b-aaaa6d84f53b",
   "metadata": {},
   "source": [
    "# END"
   ]
  }
 ],
 "metadata": {
  "kernelspec": {
   "display_name": "Python 3 (ipykernel)",
   "language": "python",
   "name": "python3"
  },
  "language_info": {
   "codemirror_mode": {
    "name": "ipython",
    "version": 3
   },
   "file_extension": ".py",
   "mimetype": "text/x-python",
   "name": "python",
   "nbconvert_exporter": "python",
   "pygments_lexer": "ipython3",
   "version": "3.8.1"
  }
 },
 "nbformat": 4,
 "nbformat_minor": 5
}
