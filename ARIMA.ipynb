{
 "cells": [
  {
   "cell_type": "markdown",
   "id": "012a8e43-17e3-4e14-8b1b-531dfc106ab9",
   "metadata": {},
   "source": [
    "# ARIMA"
   ]
  },
  {
   "cell_type": "code",
   "execution_count": 1,
   "id": "47ac4758-00f0-4942-ba64-51666fd53cda",
   "metadata": {},
   "outputs": [],
   "source": [
    "import pandas as pd\n",
    "import numpy as np\n",
    "import matplotlib.pyplot as plt\n",
    "from statsmodels.tsa.stattools import adfuller\n",
    "from statsmodels.tsa.arima.model import ARIMA\n",
    "import os\n",
    "import itertools\n",
    "import warnings\n",
    "%matplotlib inline"
   ]
  },
  {
   "cell_type": "code",
   "execution_count": 2,
   "id": "f5a4b8a1-f272-4944-be63-22857109576d",
   "metadata": {},
   "outputs": [],
   "source": [
    "data_directory = r\"C:\\Users\\sb013698\\Desktop\\github\\Machine Learning in Finance\\Datasets\""
   ]
  },
  {
   "cell_type": "code",
   "execution_count": 3,
   "id": "7df8630f-4854-4b2b-89cc-d4f6b2f69176",
   "metadata": {},
   "outputs": [],
   "source": [
    "# Suppress specific warning related to frequency (no need to import ValueWarning explicitly)\n",
    "warnings.filterwarnings(\"ignore\", message=\".*frequency.*\")\n",
    "warnings.filterwarnings(\"ignore\", category=UserWarning)"
   ]
  },
  {
   "cell_type": "markdown",
   "id": "bbd45f67-d624-4f74-9517-644691f43b04",
   "metadata": {},
   "source": [
    "### Parameters of ARIMA Models\n",
    "\n",
    "- **AutoRegressive (AR) Order, p:** \n",
    "   - Represents the number of lag observations included in the model.\n",
    "   - It models the relationship between an observation and several past observations (lags).\n",
    "   - **Formula** for AR:\n",
    "     $$\n",
    "     y_t = \\phi_1 y_{t-1} + \\phi_2 y_{t-2} + \\dots + \\phi_p y_{t-p} + \\epsilon_t\n",
    "     $$\n",
    "     where:\n",
    "     - $y_t$ is the current value at time $t$,\n",
    "     - ${\\phi_1, \\phi_2, ..., \\phi_p}$ are the coefficients for the previous observations,\n",
    "     - $\\epsilon_t$ is the error term at time $t$.\n",
    "\n",
    "---\n",
    "\n",
    "2. **Differencing Order, d:**\n",
    "   - Represents the number of differencing operations to make the time series stationary.\n",
    "   - Differencing is applied to remove trends or seasonality in the series.\n",
    "   - **Formula** for Differencing (first difference):\n",
    "     $$\n",
    "     \\Delta y_t = y_t - y_{t-1}\n",
    "     $$\n",
    "     where:\n",
    "     - $\\Delta y_t$ is the differenced value at time $t$,\n",
    "     - $y_t$ is the original value at time $t$.\n",
    "\n",
    "---\n",
    "\n",
    "3. **Moving Average (MA) Order, q:**\n",
    "   - Represents the number of lagged forecast errors included in the model.\n",
    "   - It models the relationship between the current value and previous forecast errors.\n",
    "   - **Formula** for MA:\n",
    "     $$\n",
    "     y_t = \\theta_1 \\epsilon_{t-1} + \\theta_2 \\epsilon_{t-2} + \\dots + \\theta_q \\epsilon_{t-q} + \\epsilon_t\n",
    "     $$\n",
    "     where:\n",
    "     - $y_t$ is the current value at time $t$,\n",
    "     - $\\epsilon_t$ is the error term at time $t$,\n",
    "     - ${\\theta_1, \\theta_2, ..., \\theta_q}$ are the coefficients for the forecast errors."
   ]
  },
  {
   "cell_type": "markdown",
   "id": "31cf1dbb-bb0e-468d-a407-32b03362b2fb",
   "metadata": {},
   "source": [
    "## Fitting ARIMA Models to Turkish Unemployment Rate Data\n",
    "- We will focus on fitting ARIMA type model to Turkish monthly unemployment rate data. The data is obtained from Central Bank, and provided as \"unemployment.xlsx\".\n",
    "- We will try to determine the optimal integration order for ARIMA: p, d, and q. "
   ]
  },
  {
   "cell_type": "code",
   "execution_count": 4,
   "id": "b6039eed-574d-4d9c-95ff-1c11fbffbbcb",
   "metadata": {},
   "outputs": [
    {
     "name": "stdout",
     "output_type": "stream",
     "text": [
      "(116, 2)\n"
     ]
    }
   ],
   "source": [
    "data = pd.read_excel(os.path.join(data_directory, \"unemployment.xlsx\"))\n",
    "print(data.shape)"
   ]
  },
  {
   "cell_type": "code",
   "execution_count": 5,
   "id": "cb836697-d12a-4397-a129-f16812c07a93",
   "metadata": {},
   "outputs": [
    {
     "name": "stdout",
     "output_type": "stream",
     "text": [
      "<class 'pandas.core.frame.DataFrame'>\n",
      "RangeIndex: 116 entries, 0 to 115\n",
      "Data columns (total 2 columns):\n",
      " #   Column          Non-Null Count  Dtype  \n",
      "---  ------          --------------  -----  \n",
      " 0   Tarih           116 non-null    object \n",
      " 1   TP YISGUCU2 G8  116 non-null    float64\n",
      "dtypes: float64(1), object(1)\n",
      "memory usage: 1.9+ KB\n"
     ]
    }
   ],
   "source": [
    "data.info()"
   ]
  },
  {
   "cell_type": "code",
   "execution_count": 6,
   "id": "e8804b46-0a83-4bd2-b67c-7bf7839fcb29",
   "metadata": {},
   "outputs": [
    {
     "name": "stdout",
     "output_type": "stream",
     "text": [
      "<class 'pandas.core.frame.DataFrame'>\n",
      "DatetimeIndex: 116 entries, 2014-01-01 to 2023-08-01\n",
      "Data columns (total 1 columns):\n",
      " #   Column          Non-Null Count  Dtype  \n",
      "---  ------          --------------  -----  \n",
      " 0   TP YISGUCU2 G8  116 non-null    float64\n",
      "dtypes: float64(1)\n",
      "memory usage: 1.8 KB\n"
     ]
    }
   ],
   "source": [
    "data['Tarih'] = pd.to_datetime(data['Tarih'])  # Ensure the date column is datetime\n",
    "data.set_index('Tarih', inplace=True)  # Set the date column as index\n",
    "data.index = pd.to_datetime(data.index)  # Ensure it's a DatetimeIndex\n",
    "\n",
    "data.info()"
   ]
  },
  {
   "cell_type": "code",
   "execution_count": 7,
   "id": "1f324381-fb6b-49a1-bc2c-b0f10aaee064",
   "metadata": {},
   "outputs": [
    {
     "data": {
      "text/html": [
       "<div>\n",
       "<style scoped>\n",
       "    .dataframe tbody tr th:only-of-type {\n",
       "        vertical-align: middle;\n",
       "    }\n",
       "\n",
       "    .dataframe tbody tr th {\n",
       "        vertical-align: top;\n",
       "    }\n",
       "\n",
       "    .dataframe thead th {\n",
       "        text-align: right;\n",
       "    }\n",
       "</style>\n",
       "<table border=\"1\" class=\"dataframe\">\n",
       "  <thead>\n",
       "    <tr style=\"text-align: right;\">\n",
       "      <th></th>\n",
       "      <th>TP YISGUCU2 G8</th>\n",
       "    </tr>\n",
       "    <tr>\n",
       "      <th>Tarih</th>\n",
       "      <th></th>\n",
       "    </tr>\n",
       "  </thead>\n",
       "  <tbody>\n",
       "    <tr>\n",
       "      <th>2014-01-01</th>\n",
       "      <td>10.5</td>\n",
       "    </tr>\n",
       "    <tr>\n",
       "      <th>2014-02-01</th>\n",
       "      <td>10.5</td>\n",
       "    </tr>\n",
       "    <tr>\n",
       "      <th>2014-03-01</th>\n",
       "      <td>9.4</td>\n",
       "    </tr>\n",
       "    <tr>\n",
       "      <th>2014-04-01</th>\n",
       "      <td>8.8</td>\n",
       "    </tr>\n",
       "    <tr>\n",
       "      <th>2014-05-01</th>\n",
       "      <td>8.4</td>\n",
       "    </tr>\n",
       "    <tr>\n",
       "      <th>2014-06-01</th>\n",
       "      <td>9.0</td>\n",
       "    </tr>\n",
       "    <tr>\n",
       "      <th>2014-07-01</th>\n",
       "      <td>9.7</td>\n",
       "    </tr>\n",
       "    <tr>\n",
       "      <th>2014-08-01</th>\n",
       "      <td>10.1</td>\n",
       "    </tr>\n",
       "    <tr>\n",
       "      <th>2014-09-01</th>\n",
       "      <td>10.1</td>\n",
       "    </tr>\n",
       "    <tr>\n",
       "      <th>2014-10-01</th>\n",
       "      <td>10.9</td>\n",
       "    </tr>\n",
       "  </tbody>\n",
       "</table>\n",
       "</div>"
      ],
      "text/plain": [
       "            TP YISGUCU2 G8\n",
       "Tarih                     \n",
       "2014-01-01            10.5\n",
       "2014-02-01            10.5\n",
       "2014-03-01             9.4\n",
       "2014-04-01             8.8\n",
       "2014-05-01             8.4\n",
       "2014-06-01             9.0\n",
       "2014-07-01             9.7\n",
       "2014-08-01            10.1\n",
       "2014-09-01            10.1\n",
       "2014-10-01            10.9"
      ]
     },
     "execution_count": 7,
     "metadata": {},
     "output_type": "execute_result"
    }
   ],
   "source": [
    "data.head(10)"
   ]
  },
  {
   "cell_type": "code",
   "execution_count": 8,
   "id": "b4180a0b-2d93-423f-98e7-1bdc74a5ab5c",
   "metadata": {},
   "outputs": [],
   "source": [
    "# Define target\n",
    "target_column = \"TP YISGUCU2 G8\"\n",
    "unemployment_rate = data[target_column]"
   ]
  },
  {
   "cell_type": "code",
   "execution_count": 9,
   "id": "9deed332-a230-4a27-aa16-6fb2e3c78af3",
   "metadata": {},
   "outputs": [
    {
     "data": {
      "image/png": "[encoded data removed]",
      "text/plain": [
       "<Figure size 800x600 with 1 Axes>"
      ]
     },
     "metadata": {},
     "output_type": "display_data"
    }
   ],
   "source": [
    "# Plot the data\n",
    "plt.figure(figsize=(8, 6))\n",
    "plt.plot(unemployment_rate, label=\"Unemployment Rate\")\n",
    "plt.title(\"Monthly Unemployment Rate in Turkey between 01/2014 - 08/2023\")\n",
    "plt.xlabel(\"Time\")\n",
    "plt.ylabel(\"Unemployment Rate\")\n",
    "plt.legend()\n",
    "plt.show()"
   ]
  },
  {
   "cell_type": "code",
   "execution_count": 10,
   "id": "6f8cbcc5-8992-44f4-b8fa-dbd7181d1afb",
   "metadata": {},
   "outputs": [
    {
     "name": "stdout",
     "output_type": "stream",
     "text": [
      "ADF p-value for original series: 0.4029339295539812\n",
      "ADF p-value for 1-th differenced series: 0.13536547968255624\n",
      "ADF p-value for 2-th differenced series: 4.77170631299393e-15\n",
      "The series is stationary after 2 differencings.\n"
     ]
    }
   ],
   "source": [
    "# Function to check stationarity and apply differencing if needed\n",
    "def check_stationarity_and_diff(series, max_diff=2, alpha=0.05):\n",
    "    \"\"\"\n",
    "    This function checks if a time series is stationary using the Augmented Dickey-Fuller test.\n",
    "    If the series is not stationary, it applies first and second differencing until it becomes stationary or reaches max_diff iterations.\n",
    "\n",
    "    Parameters:\n",
    "    - series: The time series data to check.\n",
    "    - max_diff: Maximum number of differencings to apply. Default is 2 (first and second differencing).\n",
    "    - alpha: The significance level for the ADF test. Default is 0.05.\n",
    "    \n",
    "    Returns:\n",
    "    - A stationary series (after differencing, if necessary).\n",
    "    - The number of differencings applied.\n",
    "    - ADF p-values after each differencing.\n",
    "    \"\"\"\n",
    "    \n",
    "    def adf_test(series):\n",
    "        result = adfuller(series)\n",
    "        return result[1]  # p-value\n",
    "    \n",
    "    # Step 1: Check for stationarity on the original series\n",
    "    adf_p_value = adf_test(series)\n",
    "    print(f\"ADF p-value for original series: {adf_p_value}\")\n",
    "\n",
    "    if adf_p_value < alpha:\n",
    "        print(\"The series is stationary.\")\n",
    "        return series, 0, [adf_p_value]\n",
    "    \n",
    "    # Step 2: If the series is non-stationary, apply differencing\n",
    "    diff_series = series.copy()\n",
    "    adf_p_values = [adf_p_value]\n",
    "    for i in range(1, max_diff + 1):\n",
    "        diff_series = diff_series.diff().dropna()  # Apply differencing\n",
    "        adf_p_value = adf_test(diff_series)  # Recheck stationarity after differencing\n",
    "        adf_p_values.append(adf_p_value)\n",
    "        print(f\"ADF p-value for {i}-th differenced series: {adf_p_value}\")\n",
    "        \n",
    "        if adf_p_value < alpha:\n",
    "            print(f\"The series is stationary after {i} differencings.\")\n",
    "            return diff_series, i, adf_p_values\n",
    "    \n",
    "    print(f\"The series is still non-stationary after {max_diff} differencings.\")\n",
    "    return diff_series, max_diff, adf_p_values\n",
    "\n",
    "# Call the function to check stationarity and apply differencing if needed\n",
    "unemployment_rate = data[target_column]  # Replace with your actual data column\n",
    "stationary_series, differencing_count, p_values = check_stationarity_and_diff(unemployment_rate)"
   ]
  },
  {
   "cell_type": "markdown",
   "id": "04f943b6-a5ec-42f1-b965-14ba7410ddf6",
   "metadata": {},
   "source": [
    "**Notes:**\n",
    "\n",
    "- Stationarity refers to whether the statistical properties of a time series, such as the mean and variance, remain constant over time. This concept is essential in time series forecasting, especially when using models like ARIMA (AutoRegressive Integrated Moving Average).\n",
    "- If your time series is non-stationary, it may show trends or patterns that change over time. This can affect how well an ARIMA model fits the data.\n",
    "- Differencing (d) is often used to make the time series stationary by removing trends (e.g., by applying first differencing if the series has a linear trend)."
   ]
  },
  {
   "cell_type": "code",
   "execution_count": 11,
   "id": "a22a9500-9f3e-43bf-b885-2fe27341f7f6",
   "metadata": {},
   "outputs": [
    {
     "data": {
      "text/html": [
       "<div>\n",
       "<style scoped>\n",
       "    .dataframe tbody tr th:only-of-type {\n",
       "        vertical-align: middle;\n",
       "    }\n",
       "\n",
       "    .dataframe tbody tr th {\n",
       "        vertical-align: top;\n",
       "    }\n",
       "\n",
       "    .dataframe thead th {\n",
       "        text-align: right;\n",
       "    }\n",
       "</style>\n",
       "<table border=\"1\" class=\"dataframe\">\n",
       "  <thead>\n",
       "    <tr style=\"text-align: right;\">\n",
       "      <th></th>\n",
       "      <th>p</th>\n",
       "      <th>d</th>\n",
       "      <th>q</th>\n",
       "      <th>AIC</th>\n",
       "      <th>BIC</th>\n",
       "      <th>Log-Likelihood</th>\n",
       "      <th>ADF P-Value</th>\n",
       "    </tr>\n",
       "  </thead>\n",
       "  <tbody>\n",
       "    <tr>\n",
       "      <th>8</th>\n",
       "      <td>2</td>\n",
       "      <td>2</td>\n",
       "      <td>2</td>\n",
       "      <td>367.326593</td>\n",
       "      <td>380.874244</td>\n",
       "      <td>-178.663296</td>\n",
       "      <td>4.771706e-15</td>\n",
       "    </tr>\n",
       "    <tr>\n",
       "      <th>5</th>\n",
       "      <td>1</td>\n",
       "      <td>2</td>\n",
       "      <td>2</td>\n",
       "      <td>389.835151</td>\n",
       "      <td>400.673272</td>\n",
       "      <td>-190.917576</td>\n",
       "      <td>4.771706e-15</td>\n",
       "    </tr>\n",
       "    <tr>\n",
       "      <th>2</th>\n",
       "      <td>0</td>\n",
       "      <td>2</td>\n",
       "      <td>2</td>\n",
       "      <td>420.545044</td>\n",
       "      <td>428.673635</td>\n",
       "      <td>-207.272522</td>\n",
       "      <td>4.771706e-15</td>\n",
       "    </tr>\n",
       "    <tr>\n",
       "      <th>7</th>\n",
       "      <td>2</td>\n",
       "      <td>2</td>\n",
       "      <td>1</td>\n",
       "      <td>431.245075</td>\n",
       "      <td>442.083196</td>\n",
       "      <td>-211.622538</td>\n",
       "      <td>4.771706e-15</td>\n",
       "    </tr>\n",
       "    <tr>\n",
       "      <th>4</th>\n",
       "      <td>1</td>\n",
       "      <td>2</td>\n",
       "      <td>1</td>\n",
       "      <td>474.111737</td>\n",
       "      <td>482.240327</td>\n",
       "      <td>-234.055868</td>\n",
       "      <td>4.771706e-15</td>\n",
       "    </tr>\n",
       "    <tr>\n",
       "      <th>6</th>\n",
       "      <td>2</td>\n",
       "      <td>2</td>\n",
       "      <td>0</td>\n",
       "      <td>515.437883</td>\n",
       "      <td>523.566473</td>\n",
       "      <td>-254.718941</td>\n",
       "      <td>4.771706e-15</td>\n",
       "    </tr>\n",
       "    <tr>\n",
       "      <th>1</th>\n",
       "      <td>0</td>\n",
       "      <td>2</td>\n",
       "      <td>1</td>\n",
       "      <td>531.845692</td>\n",
       "      <td>537.264752</td>\n",
       "      <td>-263.922846</td>\n",
       "      <td>4.771706e-15</td>\n",
       "    </tr>\n",
       "    <tr>\n",
       "      <th>3</th>\n",
       "      <td>1</td>\n",
       "      <td>2</td>\n",
       "      <td>0</td>\n",
       "      <td>576.548057</td>\n",
       "      <td>581.967118</td>\n",
       "      <td>-286.274029</td>\n",
       "      <td>4.771706e-15</td>\n",
       "    </tr>\n",
       "    <tr>\n",
       "      <th>0</th>\n",
       "      <td>0</td>\n",
       "      <td>2</td>\n",
       "      <td>0</td>\n",
       "      <td>657.423730</td>\n",
       "      <td>660.133260</td>\n",
       "      <td>-327.711865</td>\n",
       "      <td>4.771706e-15</td>\n",
       "    </tr>\n",
       "  </tbody>\n",
       "</table>\n",
       "</div>"
      ],
      "text/plain": [
       "   p  d  q         AIC         BIC  Log-Likelihood   ADF P-Value\n",
       "8  2  2  2  367.326593  380.874244     -178.663296  4.771706e-15\n",
       "5  1  2  2  389.835151  400.673272     -190.917576  4.771706e-15\n",
       "2  0  2  2  420.545044  428.673635     -207.272522  4.771706e-15\n",
       "7  2  2  1  431.245075  442.083196     -211.622538  4.771706e-15\n",
       "4  1  2  1  474.111737  482.240327     -234.055868  4.771706e-15\n",
       "6  2  2  0  515.437883  523.566473     -254.718941  4.771706e-15\n",
       "1  0  2  1  531.845692  537.264752     -263.922846  4.771706e-15\n",
       "3  1  2  0  576.548057  581.967118     -286.274029  4.771706e-15\n",
       "0  0  2  0  657.423730  660.133260     -327.711865  4.771706e-15"
      ]
     },
     "execution_count": 11,
     "metadata": {},
     "output_type": "execute_result"
    }
   ],
   "source": [
    "# Define the range of p, d, q values\n",
    "p = [0, 1, 2]\n",
    "q = [0, 1, 2]\n",
    "d = [2]  # Value that makes the data stationary based on previous analysis\n",
    "\n",
    "# Generate all combinations of p, d, q\n",
    "combinations = list(itertools.product(p, d, q))\n",
    "\n",
    "# List to store the results\n",
    "results_list = list()\n",
    "\n",
    "# Fit different ARIMA models and collect results\n",
    "for param in combinations:\n",
    "    try:\n",
    "        if param[1] == 0:  # If d=0, use the original data (no differencing)\n",
    "            model = ARIMA(unemployment_rate, order=param)\n",
    "        elif param[1] == 1:  # If d=1, use the first differenced data\n",
    "            model = ARIMA(stationary_series, order=param)\n",
    "        elif param[1] == 2:  # If d=2, use the second differenced data\n",
    "            model = ARIMA(stationary_series.diff().dropna(), order=param)\n",
    "        \n",
    "        results = model.fit()\n",
    "        results_list.append({\n",
    "            'p': param[0],\n",
    "            'd': param[1],\n",
    "            'q': param[2],\n",
    "            'AIC': results.aic,\n",
    "            'BIC': results.bic,\n",
    "            'Log-Likelihood': results.llf,\n",
    "            'ADF P-Value': p_values[-1]  # Last p-value from differencing\n",
    "        })\n",
    "    except Exception as e:\n",
    "        print(f\"Error fitting model {param}: {e}\")\n",
    "        continue\n",
    "\n",
    "# Convert results list to a DataFrame\n",
    "results_df = pd.DataFrame(results_list)\n",
    "results_df.sort_values(by=\"AIC\", ascending=True)"
   ]
  },
  {
   "cell_type": "code",
   "execution_count": 12,
   "id": "a8d11bd2-94dd-4ca0-8463-d82d01dff182",
   "metadata": {},
   "outputs": [
    {
     "name": "stdout",
     "output_type": "stream",
     "text": [
      "Optimal ARIMA order (p, d, q): (2, 2, 2)\n"
     ]
    }
   ],
   "source": [
    "# Select the best model based on the lowest AIC\n",
    "best_model_row = results_df.loc[results_df['AIC'].idxmin()]\n",
    "best_order = (int(best_model_row['p']), int(best_model_row['d']), int(best_model_row['q']))\n",
    "print(f\"Optimal ARIMA order (p, d, q): {best_order}\")"
   ]
  },
  {
   "cell_type": "markdown",
   "id": "1f0e66d0-1d3f-4417-a731-cfd86186660f",
   "metadata": {},
   "source": [
    "## Evaluation Metrics\n",
    "#### AIC (Akaike Information Criterion):\n",
    "AIC evaluates the quality of a statistical model by balancing goodness of fit and model complexity. It is defined as:\n",
    "\n",
    "$$\n",
    "\\text{AIC} = 2k - 2\\ln(L)\n",
    "$$\n",
    "\n",
    "Where $k$ is the number of model parameters and $L$ is the likelihood of the model.\n",
    "\n",
    "#### BIC (Bayesian Information Criterion):\n",
    "BIC is similar to AIC but applies a stricter penalty for model complexity, especially when the sample size is large. It is defined as:\n",
    "\n",
    "$$\n",
    "\\text{BIC} = \\ln(n)k - 2\\ln(L)\n",
    "$$\n",
    "\n",
    "Where $n$ is the number of observations, $k$ is the number of model parameters, and $L$ is the likelihood of the model.\n",
    "\n",
    "#### Why Use AIC and BIC?\n",
    "- When no explicit training-test split exists, these metrics help compare models by penalizing complexity to avoid overfitting.\n",
    "- **AIC** prioritizes fit and is often used in exploratory analysis.\n",
    "- **BIC** is more conservative, favoring simpler models as sample size increases.\n",
    "- Both are useful for model selection in time series and regression analysis when a holdout (test) set is unavailable."
   ]
  },
  {
   "cell_type": "markdown",
   "id": "c391c558-1fa0-4018-96ca-4276d1e690aa",
   "metadata": {},
   "source": []
  },
  {
   "cell_type": "code",
   "execution_count": null,
   "id": "af7e0dc2-d42c-44e0-98f8-5bbdaafc044e",
   "metadata": {},
   "outputs": [],
   "source": []
  },
  {
   "cell_type": "markdown",
   "id": "5a7da8d0-9ae1-45c9-80c4-064f96de2143",
   "metadata": {},
   "source": [
    "# END"
   ]
  }
 ],
 "metadata": {
  "kernelspec": {
   "display_name": "Python 3 (ipykernel)",
   "language": "python",
   "name": "python3"
  },
  "language_info": {
   "codemirror_mode": {
    "name": "ipython",
    "version": 3
   },
   "file_extension": ".py",
   "mimetype": "text/x-python",
   "name": "python",
   "nbconvert_exporter": "python",
   "pygments_lexer": "ipython3",
   "version": "3.8.1"
  }
 },
 "nbformat": 4,
 "nbformat_minor": 5
}
